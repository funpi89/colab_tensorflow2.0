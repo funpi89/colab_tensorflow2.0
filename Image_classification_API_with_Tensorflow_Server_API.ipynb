{
  "nbformat": 4,
  "nbformat_minor": 0,
  "metadata": {
    "colab": {
      "name": "Image classification API with Tensorflow Server API",
      "provenance": [],
      "collapsed_sections": [],
      "toc_visible": true,
      "include_colab_link": true
    },
    "kernelspec": {
      "name": "python3",
      "display_name": "Python 3"
    },
    "accelerator": "GPU"
  },
  "cells": [
    {
      "cell_type": "markdown",
      "metadata": {
        "id": "view-in-github",
        "colab_type": "text"
      },
      "source": [
        "<a href=\"https://colab.research.google.com/github/funpi89/colab_tensorflow2.0/blob/master/Image_classification_API_with_Tensorflow_Server_API.ipynb\" target=\"_parent\"><img src=\"https://colab.research.google.com/assets/colab-badge.svg\" alt=\"Open In Colab\"/></a>"
      ]
    },
    {
      "cell_type": "markdown",
      "metadata": {
        "id": "1dm4Ha4YItrs",
        "colab_type": "text"
      },
      "source": [
        "# Install dependencies and notebook gpu setup"
      ]
    },
    {
      "cell_type": "code",
      "metadata": {
        "id": "TpnoyfWEItK1",
        "colab_type": "code",
        "outputId": "b1f16b77-64ea-47a1-cb55-459be03d63af",
        "colab": {
          "base_uri": "https://localhost:8080/",
          "height": 101
        }
      },
      "source": [
        "!echo \"deb [arch=amd64] http://storage.googleapis.com/tensorflow-serving-apt stable tensorflow-model-server tensorflow-model-server-universal\" | sudo tee /etc/apt/sources.list.d/tensorflow-serving.list && curl https://storage.googleapis.com/tensorflow-serving-apt/tensorflow-serving.release.pub.gpg | sudo apt-key add -"
      ],
      "execution_count": 0,
      "outputs": [
        {
          "output_type": "stream",
          "text": [
            "deb [arch=amd64] http://storage.googleapis.com/tensorflow-serving-apt stable tensorflow-model-server tensorflow-model-server-universal\n",
            "  % Total    % Received % Xferd  Average Speed   Time    Time     Time  Current\n",
            "                                 Dload  Upload   Total   Spent    Left  Speed\n",
            "\r  0     0    0     0    0     0      0      0 --:--:-- --:--:-- --:--:--     0\r100  2943  100  2943    0     0  37253      0 --:--:-- --:--:-- --:--:-- 37253\n",
            "OK\n"
          ],
          "name": "stdout"
        }
      ]
    },
    {
      "cell_type": "code",
      "metadata": {
        "id": "ouqwHwadGA00",
        "colab_type": "code",
        "outputId": "8fdb2ced-253f-45ac-fac5-7a8a207fce1c",
        "colab": {
          "base_uri": "https://localhost:8080/",
          "height": 638
        }
      },
      "source": [
        "!sudo apt-get update & sudo apt-get install tensorflow-model-server"
      ],
      "execution_count": 0,
      "outputs": [
        {
          "output_type": "stream",
          "text": [
            "\rReading package lists... 0%\r\r0% [Working]\r            \rGet:1 http://storage.googleapis.com/tensorflow-serving-apt stable InRelease [3,012 B]\n",
            "\r0% [Connecting to archive.ubuntu.com] [Connecting to security.ubuntu.com (91.18\r0% [1 InRelease gpgv 3,012 B] [Connecting to archive.ubuntu.com] [Connecting to\r                                                                               \rGet:2 https://cloud.r-project.org/bin/linux/ubuntu bionic-cran35/ InRelease [3,626 B]\n",
            "\r0% [1 InRelease gpgv 3,012 B] [Connecting to archive.ubuntu.com] [Connecting to\r0% [1 InRelease gpgv 3,012 B] [Connecting to archive.ubuntu.com] [Connecting to\rReading package lists... 0%\r\rReading package lists... 0%\r\r                                                                               \rIgn:3 https://developer.download.nvidia.com/compute/cuda/repos/ubuntu1804/x86_64  InRelease\n",
            "\r0% [1 InRelease gpgv 3,012 B] [Connecting to archive.ubuntu.com (91.189.88.31)]\r                                                                               \rGet:4 http://security.ubuntu.com/ubuntu bionic-security InRelease [88.7 kB]\n",
            "\r0% [1 InRelease gpgv 3,012 B] [Connecting to archive.ubuntu.com (91.189.88.31)]\r                                                                               \rGet:5 http://ppa.launchpad.net/graphics-drivers/ppa/ubuntu bionic InRelease [21.3 kB]\n",
            "\r0% [1 InRelease gpgv 3,012 B] [Connecting to archive.ubuntu.com (91.189.88.31)]\r0% [Connecting to archive.ubuntu.com (91.189.88.31)] [4 InRelease 14.2 kB/88.7 \r0% [2 InRelease gpgv 3,626 B] [Waiting for headers] [4 InRelease 14.2 kB/88.7 k\r                                                                               \rIgn:6 https://developer.download.nvidia.com/compute/machine-learning/repos/ubuntu1804/x86_64  InRelease\n",
            "\r0% [2 InRelease gpgv 3,626 B] [Waiting for headers] [4 InRelease 14.2 kB/88.7 k\r                                                                               \rGet:7 https://developer.download.nvidia.com/compute/cuda/repos/ubuntu1804/x86_64  Release [564 B]\n",
            "\r0% [2 InRelease gpgv 3,626 B] [Waiting for headers] [4 InRelease 14.2 kB/88.7 k\r0% [2 InRelease gpgv 3,626 B] [Waiting for headers] [4 InRelease 14.2 kB/88.7 k\rReading package lists... 7%\r\rReading package lists... 7%\r\r                                                                               \rGet:8 https://developer.download.nvidia.com/compute/machine-learning/repos/ubuntu1804/x86_64  Release [564 B]\n",
            "\r0% [2 InRelease gpgv 3,626 B] [Waiting for headers] [4 InRelease 14.2 kB/88.7 k\r0% [2 InRelease gpgv 3,626 B] [Waiting for headers] [4 InRelease 14.2 kB/88.7 k\r                                                                               \rGet:9 https://developer.download.nvidia.com/compute/cuda/repos/ubuntu1804/x86_64  Release.gpg [819 B]\n",
            "\r0% [2 InRelease gpgv 3,626 B] [Waiting for headers] [4 InRelease 14.2 kB/88.7 k\r0% [2 InRelease gpgv 3,626 B] [Waiting for headers] [4 InRelease 14.2 kB/88.7 k\r                                                                               \rGet:10 http://storage.googleapis.com/tensorflow-serving-apt stable/tensorflow-model-server amd64 Packages [357 B]\n",
            "\r0% [2 InRelease gpgv 3,626 B] [Waiting for headers] [4 InRelease 14.2 kB/88.7 k\r0% [2 InRelease gpgv 3,626 B] [Waiting for headers] [4 InRelease 14.2 kB/88.7 k\r                                                                               \rGet:11 https://developer.download.nvidia.com/compute/machine-learning/repos/ubuntu1804/x86_64  Release.gpg [833 B]\n",
            "\r0% [2 InRelease gpgv 3,626 B] [Waiting for headers] [4 InRelease 14.2 kB/88.7 k\r0% [10 Packages store 0 B] [2 InRelease gpgv 3,626 B] [Waiting for headers] [4 \rReading package lists... 7%\r\r0% [2 InRelease gpgv 3,626 B] [Waiting for headers] [4 InRelease 14.2 kB/88.7 k\rReading package lists... 7%\r\r                                                                               \rHit:12 http://archive.ubuntu.com/ubuntu bionic InRelease\n",
            "\r0% [2 InRelease gpgv 3,626 B] [4 InRelease 22.8 kB/88.7 kB 26%] [5 InRelease 20\r0% [2 InRelease gpgv 3,626 B] [Connecting to archive.ubuntu.com (91.189.88.31)]\r                                                                               \rGet:13 http://storage.googleapis.com/tensorflow-serving-apt stable/tensorflow-model-server-universal amd64 Packages [365 B]\n",
            "\r0% [2 InRelease gpgv 3,626 B] [Connecting to archive.ubuntu.com (91.189.88.31)]\r0% [2 InRelease gpgv 3,626 B] [Connecting to archive.ubuntu.com (91.189.88.31)]\r0% [Connecting to archive.ubuntu.com (91.189.88.31)] [4 InRelease 40.2 kB/88.7 \r0% [9 Release.gpg gpgv 564 B] [Connecting to archive.ubuntu.com (91.189.88.31)]\r                                                                               \rGet:14 https://cloud.r-project.org/bin/linux/ubuntu bionic-cran35/ Packages [70.9 kB]\n",
            "\r0% [9 Release.gpg gpgv 564 B] [Connecting to archive.ubuntu.com (91.189.88.31)]\r0% [9 Release.gpg gpgv 564 B] [Connecting to archive.ubuntu.com (91.189.88.31)]\r0% [14 Packages store 0 B] [9 Release.gpg gpgv 564 B] [Connecting to archive.ub\r0% [9 Release.gpg gpgv 564 B] [Waiting for headers] [4 InRelease 54.7 kB/88.7 k\r0% [Waiting for headers] [4 InRelease 83.7 kB/88.7 kB 94%] [Waiting for headers\r0% [11 Release.gpg gpgv 564 B] [Waiting for headers] [4 InRelease 83.7 kB/88.7 \r0% [11 Release.gpg gpgv 564 B] [Waiting for headers] [Waiting for headers] [Wai\r                                                                               \rGet:15 https://developer.download.nvidia.com/compute/cuda/repos/ubuntu1804/x86_64  Packages [119 kB]\n",
            "\r0% [11 Release.gpg gpgv 564 B] [Waiting for headers] [15 Packages 32.8 kB/119 k\r                                                                               \r0% [11 Release.gpg gpgv 564 B] [Waiting for headers] [Waiting for headers]\r                                                                          \rGet:16 http://archive.ubuntu.com/ubuntu bionic-updates InRelease [88.7 kB]\n",
            "Get:17 http://ppa.launchpad.net/marutter/c2d4u3.5/ubuntu bionic InRelease [15.4 kB]\n",
            "Get:18 https://developer.download.nvidia.com/compute/machine-learning/repos/ubuntu1804/x86_64  Packages [20.6 kB]\n",
            "Get:19 http://archive.ubuntu.com/ubuntu bionic-backports InRelease [74.6 kB]\n",
            "Get:20 http://ppa.launchpad.net/graphics-drivers/ppa/ubuntu bionic/main amd64 Packages [31.7 kB]\n",
            "Get:21 http://security.ubuntu.com/ubuntu bionic-security/universe amd64 Packages [774 kB]\n",
            "Get:22 http://ppa.launchpad.net/marutter/c2d4u3.5/ubuntu bionic/main Sources [1,710 kB]\n",
            "Get:23 http://archive.ubuntu.com/ubuntu bionic-updates/main amd64 Packages [973 kB]\n",
            "Reading package lists... Done\n",
            "Building dependency tree       \n",
            "Reading state information... Done\n",
            "Get:24 http://security.ubuntu.com/ubuntu bionic-security/main amd64 Packages [677 kB]\n",
            "47% [23 Packages 573 kB/973 kB 59%] [24 Packages 14.3 kB/677 kB 2%] [22 SourcesE: Unable to locate package tensorflow-model-server\n",
            "Get:25 http://archive.ubuntu.com/ubuntu bionic-updates/multiverse amd64 Packages [8,456 B]\n",
            "Get:26 http://ppa.launchpad.net/marutter/c2d4u3.5/ubuntu bionic/main amd64 Packages [823 kB]\n",
            "Get:27 http://archive.ubuntu.com/ubuntu bionic-updates/restricted amd64 Packages [21.4 kB]\n",
            "Get:28 http://security.ubuntu.com/ubuntu bionic-security/multiverse amd64 Packages [5,391 B]\n",
            "Get:29 http://archive.ubuntu.com/ubuntu bionic-updates/universe amd64 Packages [1,292 kB]\n",
            "Get:30 http://security.ubuntu.com/ubuntu bionic-security/restricted amd64 Packages [10.4 kB]\n",
            "Get:31 http://archive.ubuntu.com/ubuntu bionic-backports/universe amd64 Packages [4,227 B]\n",
            "Fetched 6,840 kB in 4s (1,870 kB/s)\n",
            "Reading package lists... Done\n"
          ],
          "name": "stdout"
        }
      ]
    },
    {
      "cell_type": "code",
      "metadata": {
        "id": "6PBPBi7Cd4ZJ",
        "colab_type": "code",
        "outputId": "2da39221-3574-4935-cb83-78908910b576",
        "colab": {
          "base_uri": "https://localhost:8080/",
          "height": 406
        }
      },
      "source": [
        "!sudo apt-get install tensorflow-model-server"
      ],
      "execution_count": 0,
      "outputs": [
        {
          "output_type": "stream",
          "text": [
            "Reading package lists... Done\n",
            "Building dependency tree       \n",
            "Reading state information... Done\n",
            "The following NEW packages will be installed:\n",
            "  tensorflow-model-server\n",
            "0 upgraded, 1 newly installed, 0 to remove and 145 not upgraded.\n",
            "Need to get 151 MB of archives.\n",
            "After this operation, 0 B of additional disk space will be used.\n",
            "Get:1 http://storage.googleapis.com/tensorflow-serving-apt stable/tensorflow-model-server amd64 tensorflow-model-server all 1.14.0 [151 MB]\n",
            "Fetched 151 MB in 2s (65.1 MB/s)\n",
            "debconf: unable to initialize frontend: Dialog\n",
            "debconf: (No usable dialog-like program is installed, so the dialog based frontend cannot be used. at /usr/share/perl5/Debconf/FrontEnd/Dialog.pm line 76, <> line 1.)\n",
            "debconf: falling back to frontend: Readline\n",
            "debconf: unable to initialize frontend: Readline\n",
            "debconf: (This frontend requires a controlling tty.)\n",
            "debconf: falling back to frontend: Teletype\n",
            "dpkg-preconfigure: unable to re-open stdin: \n",
            "Selecting previously unselected package tensorflow-model-server.\n",
            "(Reading database ... 131183 files and directories currently installed.)\n",
            "Preparing to unpack .../tensorflow-model-server_1.14.0_all.deb ...\n",
            "Unpacking tensorflow-model-server (1.14.0) ...\n",
            "Setting up tensorflow-model-server (1.14.0) ...\n"
          ],
          "name": "stdout"
        }
      ]
    },
    {
      "cell_type": "code",
      "metadata": {
        "id": "KCH9o2cuec9-",
        "colab_type": "code",
        "outputId": "b4d0d17b-8cdb-4996-fb25-cb1ba392b6d1",
        "colab": {
          "base_uri": "https://localhost:8080/",
          "height": 642
        }
      },
      "source": [
        "!pip install tensorflow-gpu==1.13.1"
      ],
      "execution_count": 0,
      "outputs": [
        {
          "output_type": "stream",
          "text": [
            "Collecting tensorflow-gpu==1.13.1\n",
            "\u001b[?25l  Downloading https://files.pythonhosted.org/packages/7b/b1/0ad4ae02e17ddd62109cd54c291e311c4b5fd09b4d0678d3d6ce4159b0f0/tensorflow_gpu-1.13.1-cp36-cp36m-manylinux1_x86_64.whl (345.2MB)\n",
            "\u001b[K     |████████████████████████████████| 345.2MB 70kB/s \n",
            "\u001b[?25hRequirement already satisfied: termcolor>=1.1.0 in /usr/local/lib/python3.6/dist-packages (from tensorflow-gpu==1.13.1) (1.1.0)\n",
            "Requirement already satisfied: keras-preprocessing>=1.0.5 in /usr/local/lib/python3.6/dist-packages (from tensorflow-gpu==1.13.1) (1.1.0)\n",
            "Requirement already satisfied: protobuf>=3.6.1 in /usr/local/lib/python3.6/dist-packages (from tensorflow-gpu==1.13.1) (3.7.1)\n",
            "Collecting tensorboard<1.14.0,>=1.13.0 (from tensorflow-gpu==1.13.1)\n",
            "\u001b[?25l  Downloading https://files.pythonhosted.org/packages/0f/39/bdd75b08a6fba41f098b6cb091b9e8c7a80e1b4d679a581a0ccd17b10373/tensorboard-1.13.1-py3-none-any.whl (3.2MB)\n",
            "\u001b[K     |████████████████████████████████| 3.2MB 36.3MB/s \n",
            "\u001b[?25hRequirement already satisfied: grpcio>=1.8.6 in /usr/local/lib/python3.6/dist-packages (from tensorflow-gpu==1.13.1) (1.15.0)\n",
            "Requirement already satisfied: gast>=0.2.0 in /usr/local/lib/python3.6/dist-packages (from tensorflow-gpu==1.13.1) (0.3.2)\n",
            "Requirement already satisfied: numpy>=1.13.3 in /usr/local/lib/python3.6/dist-packages (from tensorflow-gpu==1.13.1) (1.16.5)\n",
            "Requirement already satisfied: wheel>=0.26 in /usr/local/lib/python3.6/dist-packages (from tensorflow-gpu==1.13.1) (0.33.6)\n",
            "Collecting tensorflow-estimator<1.14.0rc0,>=1.13.0 (from tensorflow-gpu==1.13.1)\n",
            "\u001b[?25l  Downloading https://files.pythonhosted.org/packages/bb/48/13f49fc3fa0fdf916aa1419013bb8f2ad09674c275b4046d5ee669a46873/tensorflow_estimator-1.13.0-py2.py3-none-any.whl (367kB)\n",
            "\u001b[K     |████████████████████████████████| 368kB 33.8MB/s \n",
            "\u001b[?25hRequirement already satisfied: keras-applications>=1.0.6 in /usr/local/lib/python3.6/dist-packages (from tensorflow-gpu==1.13.1) (1.0.8)\n",
            "Requirement already satisfied: six>=1.10.0 in /usr/local/lib/python3.6/dist-packages (from tensorflow-gpu==1.13.1) (1.12.0)\n",
            "Requirement already satisfied: absl-py>=0.1.6 in /usr/local/lib/python3.6/dist-packages (from tensorflow-gpu==1.13.1) (0.8.0)\n",
            "Requirement already satisfied: astor>=0.6.0 in /usr/local/lib/python3.6/dist-packages (from tensorflow-gpu==1.13.1) (0.8.0)\n",
            "Requirement already satisfied: setuptools in /usr/local/lib/python3.6/dist-packages (from protobuf>=3.6.1->tensorflow-gpu==1.13.1) (41.2.0)\n",
            "Requirement already satisfied: markdown>=2.6.8 in /usr/local/lib/python3.6/dist-packages (from tensorboard<1.14.0,>=1.13.0->tensorflow-gpu==1.13.1) (3.1.1)\n",
            "Requirement already satisfied: werkzeug>=0.11.15 in /usr/local/lib/python3.6/dist-packages (from tensorboard<1.14.0,>=1.13.0->tensorflow-gpu==1.13.1) (0.16.0)\n",
            "Collecting mock>=2.0.0 (from tensorflow-estimator<1.14.0rc0,>=1.13.0->tensorflow-gpu==1.13.1)\n",
            "  Downloading https://files.pythonhosted.org/packages/05/d2/f94e68be6b17f46d2c353564da56e6fb89ef09faeeff3313a046cb810ca9/mock-3.0.5-py2.py3-none-any.whl\n",
            "Requirement already satisfied: h5py in /usr/local/lib/python3.6/dist-packages (from keras-applications>=1.0.6->tensorflow-gpu==1.13.1) (2.8.0)\n",
            "\u001b[31mERROR: tensorflow 1.14.0 has requirement tensorboard<1.15.0,>=1.14.0, but you'll have tensorboard 1.13.1 which is incompatible.\u001b[0m\n",
            "\u001b[31mERROR: tensorflow 1.14.0 has requirement tensorflow-estimator<1.15.0rc0,>=1.14.0rc0, but you'll have tensorflow-estimator 1.13.0 which is incompatible.\u001b[0m\n",
            "Installing collected packages: tensorboard, mock, tensorflow-estimator, tensorflow-gpu\n",
            "  Found existing installation: tensorboard 1.14.0\n",
            "    Uninstalling tensorboard-1.14.0:\n",
            "      Successfully uninstalled tensorboard-1.14.0\n",
            "  Found existing installation: tensorflow-estimator 1.14.0\n",
            "    Uninstalling tensorflow-estimator-1.14.0:\n",
            "      Successfully uninstalled tensorflow-estimator-1.14.0\n",
            "Successfully installed mock-3.0.5 tensorboard-1.13.1 tensorflow-estimator-1.13.0 tensorflow-gpu-1.13.1\n"
          ],
          "name": "stdout"
        }
      ]
    },
    {
      "cell_type": "code",
      "metadata": {
        "id": "6L6Hb8F6exQk",
        "colab_type": "code",
        "outputId": "9d1705c9-9dfb-463e-c948-07380ff28b7e",
        "colab": {
          "base_uri": "https://localhost:8080/",
          "height": 101
        }
      },
      "source": [
        "!pip install requests"
      ],
      "execution_count": 0,
      "outputs": [
        {
          "output_type": "stream",
          "text": [
            "Requirement already satisfied: requests in /usr/local/lib/python3.6/dist-packages (2.21.0)\n",
            "Requirement already satisfied: idna<2.9,>=2.5 in /usr/local/lib/python3.6/dist-packages (from requests) (2.8)\n",
            "Requirement already satisfied: certifi>=2017.4.17 in /usr/local/lib/python3.6/dist-packages (from requests) (2019.9.11)\n",
            "Requirement already satisfied: chardet<3.1.0,>=3.0.2 in /usr/local/lib/python3.6/dist-packages (from requests) (3.0.4)\n",
            "Requirement already satisfied: urllib3<1.25,>=1.21.1 in /usr/local/lib/python3.6/dist-packages (from requests) (1.24.3)\n"
          ],
          "name": "stdout"
        }
      ]
    },
    {
      "cell_type": "markdown",
      "metadata": {
        "id": "Bo_AJvawfSkO",
        "colab_type": "text"
      },
      "source": [
        "# Import project dependencies"
      ]
    },
    {
      "cell_type": "code",
      "metadata": {
        "id": "liwR4Niye-2S",
        "colab_type": "code",
        "outputId": "d0734cc2-e83c-4206-94fa-904b23d06d3b",
        "colab": {
          "base_uri": "https://localhost:8080/",
          "height": 34
        }
      },
      "source": [
        "import os\n",
        "import json\n",
        "import random\n",
        "import requests\n",
        "import subprocess\n",
        "import numpy as np\n",
        "import tensorflow as tf\n",
        "import matplotlib.pyplot  as plt\n",
        "\n",
        "from tensorflow.keras.datasets import cifar10\n",
        "\n",
        "%matplotlib inline\n",
        "tf.__version__"
      ],
      "execution_count": 0,
      "outputs": [
        {
          "output_type": "execute_result",
          "data": {
            "text/plain": [
              "'1.14.0'"
            ]
          },
          "metadata": {
            "tags": []
          },
          "execution_count": 15
        }
      ]
    },
    {
      "cell_type": "markdown",
      "metadata": {
        "id": "z3vMKUErf4Bk",
        "colab_type": "text"
      },
      "source": [
        "# Dataset preprocessing"
      ]
    },
    {
      "cell_type": "code",
      "metadata": {
        "id": "6y7Z8qHJf2HO",
        "colab_type": "code",
        "colab": {}
      },
      "source": [
        "# loading dataset\n",
        "(X_train, y_train), (X_test, y_test) = cifar10.load_data()"
      ],
      "execution_count": 0,
      "outputs": []
    },
    {
      "cell_type": "code",
      "metadata": {
        "id": "EhQO_17mgjhy",
        "colab_type": "code",
        "colab": {}
      },
      "source": [
        "class_name = ['airplane', 'automobile', 'bird', 'cat', 'deer', 'dog', 'frog', 'horse', 'ship', 'truck']"
      ],
      "execution_count": 0,
      "outputs": []
    },
    {
      "cell_type": "code",
      "metadata": {
        "id": "IMDvxGiqg4y0",
        "colab_type": "code",
        "colab": {}
      },
      "source": [
        "# image normolization\n",
        "X_train = X_train / 255.0\n",
        "X_test = X_test / 255.0"
      ],
      "execution_count": 0,
      "outputs": []
    },
    {
      "cell_type": "code",
      "metadata": {
        "id": "_FbxpEcLhLxe",
        "colab_type": "code",
        "outputId": "f6694a77-a8db-48ff-abd9-af76a5473abe",
        "colab": {
          "base_uri": "https://localhost:8080/",
          "height": 34
        }
      },
      "source": [
        "X_train.shape"
      ],
      "execution_count": 0,
      "outputs": [
        {
          "output_type": "execute_result",
          "data": {
            "text/plain": [
              "(50000, 32, 32, 3)"
            ]
          },
          "metadata": {
            "tags": []
          },
          "execution_count": 19
        }
      ]
    },
    {
      "cell_type": "code",
      "metadata": {
        "id": "1EVRiJL_aX4F",
        "colab_type": "code",
        "outputId": "4454a8c9-9cb2-4ff3-dd54-4450093c7d53",
        "colab": {
          "base_uri": "https://localhost:8080/",
          "height": 34
        }
      },
      "source": [
        "type(X_train)"
      ],
      "execution_count": 0,
      "outputs": [
        {
          "output_type": "execute_result",
          "data": {
            "text/plain": [
              "numpy.ndarray"
            ]
          },
          "metadata": {
            "tags": []
          },
          "execution_count": 44
        }
      ]
    },
    {
      "cell_type": "markdown",
      "metadata": {
        "id": "GqELSs5ehXC8",
        "colab_type": "text"
      },
      "source": [
        "# Defining the model"
      ]
    },
    {
      "cell_type": "code",
      "metadata": {
        "id": "QIffnyV7hPVH",
        "colab_type": "code",
        "colab": {}
      },
      "source": [
        "model = tf.keras.models.Sequential()\n",
        "model.add(tf.keras.layers.Conv2D(filters=32, kernel_size=3, padding='same', activation='relu', input_shape=(32,32,3)))\n",
        "model.add(tf.keras.layers.Conv2D(filters=32, kernel_size=3, padding='same', activation='relu'))\n",
        "model.add(tf.keras.layers.MaxPool2D(pool_size=2, strides=2, padding='valid'))\n",
        "model.add(tf.keras.layers.Conv2D(filters=64, kernel_size=3, padding='same', activation='relu'))\n",
        "model.add(tf.keras.layers.Conv2D(filters=64, kernel_size=3, padding='same', activation='relu'))\n",
        "model.add(tf.keras.layers.MaxPool2D(pool_size=2, strides=2, padding='valid'))\n",
        "model.add(tf.keras.layers.Flatten())\n",
        "model.add(tf.keras.layers.Dense(units=128, activation='relu'))\n",
        "model.add(tf.keras.layers.Dense(units=10, activation='softmax'))"
      ],
      "execution_count": 0,
      "outputs": []
    },
    {
      "cell_type": "code",
      "metadata": {
        "id": "Hz9XuFOfisSW",
        "colab_type": "code",
        "colab": {}
      },
      "source": [
        "model.compile(optimizer='adam', loss='sparse_categorical_crossentropy', metrics=['sparse_categorical_accuracy'])"
      ],
      "execution_count": 0,
      "outputs": []
    },
    {
      "cell_type": "code",
      "metadata": {
        "id": "76ZIqJnWi-ys",
        "colab_type": "code",
        "outputId": "c9fb394a-eb13-4f24-9979-854b06219232",
        "colab": {
          "base_uri": "https://localhost:8080/",
          "height": 370
        }
      },
      "source": [
        "model.fit(X_train, y_train, batch_size=128, epochs=10)"
      ],
      "execution_count": 0,
      "outputs": [
        {
          "output_type": "stream",
          "text": [
            "Epoch 1/10\n",
            "50000/50000 [==============================] - 10s 198us/sample - loss: 1.4743 - sparse_categorical_accuracy: 0.4671\n",
            "Epoch 2/10\n",
            "50000/50000 [==============================] - 10s 191us/sample - loss: 1.0137 - sparse_categorical_accuracy: 0.6446\n",
            "Epoch 3/10\n",
            "50000/50000 [==============================] - 10s 193us/sample - loss: 0.8241 - sparse_categorical_accuracy: 0.7141\n",
            "Epoch 4/10\n",
            "50000/50000 [==============================] - 10s 195us/sample - loss: 0.7028 - sparse_categorical_accuracy: 0.7554\n",
            "Epoch 5/10\n",
            "50000/50000 [==============================] - 10s 194us/sample - loss: 0.6106 - sparse_categorical_accuracy: 0.7877\n",
            "Epoch 6/10\n",
            "50000/50000 [==============================] - 10s 194us/sample - loss: 0.5276 - sparse_categorical_accuracy: 0.8159\n",
            "Epoch 7/10\n",
            "50000/50000 [==============================] - 10s 197us/sample - loss: 0.4455 - sparse_categorical_accuracy: 0.8438\n",
            "Epoch 8/10\n",
            "50000/50000 [==============================] - 10s 194us/sample - loss: 0.3673 - sparse_categorical_accuracy: 0.8712\n",
            "Epoch 9/10\n",
            "50000/50000 [==============================] - 10s 192us/sample - loss: 0.3043 - sparse_categorical_accuracy: 0.8929\n",
            "Epoch 10/10\n",
            "50000/50000 [==============================] - 10s 191us/sample - loss: 0.2327 - sparse_categorical_accuracy: 0.9174\n"
          ],
          "name": "stdout"
        },
        {
          "output_type": "execute_result",
          "data": {
            "text/plain": [
              "<tensorflow.python.keras.callbacks.History at 0x7fd270e432e8>"
            ]
          },
          "metadata": {
            "tags": []
          },
          "execution_count": 22
        }
      ]
    },
    {
      "cell_type": "code",
      "metadata": {
        "id": "nOUa0n_4jjN6",
        "colab_type": "code",
        "outputId": "b314573e-7151-4715-98d7-0e657585d336",
        "colab": {
          "base_uri": "https://localhost:8080/",
          "height": 34
        }
      },
      "source": [
        "# model evaluation\n",
        "test_loss, test_accuracy = model.evaluate(X_test, y_test)"
      ],
      "execution_count": 0,
      "outputs": [
        {
          "output_type": "stream",
          "text": [
            "10000/10000 [==============================] - 1s 140us/sample - loss: 1.0179 - sparse_categorical_accuracy: 0.7366\n"
          ],
          "name": "stdout"
        }
      ]
    },
    {
      "cell_type": "code",
      "metadata": {
        "id": "n3h6V7jaj0DU",
        "colab_type": "code",
        "outputId": "078ad42a-65bd-4689-f72f-ee1c72eec32e",
        "colab": {
          "base_uri": "https://localhost:8080/",
          "height": 34
        }
      },
      "source": [
        "print(\"Test accuracy : {}\".format(test_accuracy))"
      ],
      "execution_count": 0,
      "outputs": [
        {
          "output_type": "stream",
          "text": [
            "Test accuracy : 0.7365999817848206\n"
          ],
          "name": "stdout"
        }
      ]
    },
    {
      "cell_type": "markdown",
      "metadata": {
        "id": "PJ92yE4rkNxh",
        "colab_type": "text"
      },
      "source": [
        "# Saving the model for production"
      ]
    },
    {
      "cell_type": "code",
      "metadata": {
        "id": "E_EUftOTkAqd",
        "colab_type": "code",
        "colab": {}
      },
      "source": [
        "# creating the diectory for the model\n",
        "MODEL_DIR = \"model/\"\n",
        "version = 1"
      ],
      "execution_count": 0,
      "outputs": []
    },
    {
      "cell_type": "code",
      "metadata": {
        "id": "u2431QI2kqZ7",
        "colab_type": "code",
        "outputId": "71f37bed-8c67-42a7-bc7d-8618ba85ed9e",
        "colab": {
          "base_uri": "https://localhost:8080/",
          "height": 34
        }
      },
      "source": [
        "export_path = os.path.join(MODEL_DIR, str(version))\n",
        "export_path"
      ],
      "execution_count": 0,
      "outputs": [
        {
          "output_type": "execute_result",
          "data": {
            "text/plain": [
              "'model/1'"
            ]
          },
          "metadata": {
            "tags": []
          },
          "execution_count": 26
        }
      ]
    },
    {
      "cell_type": "code",
      "metadata": {
        "id": "pgRwn6hSk8M6",
        "colab_type": "code",
        "colab": {}
      },
      "source": [
        "if os.path.isdir(export_path):\n",
        "  !rm -r {export_path}"
      ],
      "execution_count": 0,
      "outputs": []
    },
    {
      "cell_type": "code",
      "metadata": {
        "id": "PgN69mNakevi",
        "colab_type": "code",
        "outputId": "5e98abba-d9ef-40fa-c078-e6aab1e8e475",
        "colab": {
          "base_uri": "https://localhost:8080/",
          "height": 188
        }
      },
      "source": [
        "# Saving the model for tenserflow serving\n",
        "tf.saved_model.simple_save(tf.keras.backend.get_session(), export_dir=export_path, inputs={\"input_image\":model.input}, outputs={t.name:t for t in model.outputs})"
      ],
      "execution_count": 0,
      "outputs": [
        {
          "output_type": "stream",
          "text": [
            "WARNING:tensorflow:From <ipython-input-28-f70a5d463003>:1: simple_save (from tensorflow.python.saved_model.simple_save) is deprecated and will be removed in a future version.\n",
            "Instructions for updating:\n",
            "This function will only be available through the v1 compatibility library as tf.compat.v1.saved_model.simple_save.\n",
            "WARNING:tensorflow:From /usr/local/lib/python3.6/dist-packages/tensorflow/python/saved_model/signature_def_utils_impl.py:201: build_tensor_info (from tensorflow.python.saved_model.utils_impl) is deprecated and will be removed in a future version.\n",
            "Instructions for updating:\n",
            "This function will only be available through the v1 compatibility library as tf.compat.v1.saved_model.utils.build_tensor_info or tf.compat.v1.saved_model.build_tensor_info.\n",
            "INFO:tensorflow:Assets added to graph.\n",
            "INFO:tensorflow:No assets to write.\n",
            "INFO:tensorflow:SavedModel written to: model/1/saved_model.pb\n"
          ],
          "name": "stdout"
        }
      ]
    },
    {
      "cell_type": "markdown",
      "metadata": {
        "id": "Pzy0vjJwmRzd",
        "colab_type": "text"
      },
      "source": [
        "# Setting up the production environment"
      ]
    },
    {
      "cell_type": "code",
      "metadata": {
        "id": "hQvf2CFbmCuI",
        "colab_type": "code",
        "colab": {}
      },
      "source": [
        "# exproting the MODEL_DIR to environment variables\n",
        "os.environ['MODEL_DIR'] = os.path.abspath(MODEL_DIR)"
      ],
      "execution_count": 0,
      "outputs": []
    },
    {
      "cell_type": "code",
      "metadata": {
        "id": "wHCZtlrAmjeB",
        "colab_type": "code",
        "outputId": "595af22f-1146-4308-b225-2a94214ee7f7",
        "colab": {
          "base_uri": "https://localhost:8080/",
          "height": 34
        }
      },
      "source": [
        "# running the tensorflow serving REST API\n",
        "%%bash --bg\n",
        "nohup tensorflow_model_server --rest_api_port=8501 --model_name=cifar10 --model_base_path=\"${MODEL_DIR}\" >server.log 2>&1"
      ],
      "execution_count": 0,
      "outputs": [
        {
          "output_type": "stream",
          "text": [
            "Starting job # 0 in a separate thread.\n"
          ],
          "name": "stdout"
        }
      ]
    },
    {
      "cell_type": "code",
      "metadata": {
        "id": "8-XlQuonoIyX",
        "colab_type": "code",
        "outputId": "3ce6f5f2-dfd6-4c14-f8c2-c1ab74f5f972",
        "colab": {
          "base_uri": "https://localhost:8080/",
          "height": 205
        }
      },
      "source": [
        "!tail server.log"
      ],
      "execution_count": 0,
      "outputs": [
        {
          "output_type": "stream",
          "text": [
            "2019-10-07 13:28:17.027446: I external/org_tensorflow/tensorflow/cc/saved_model/reader.cc:54] Reading meta graph with tags { serve }\n",
            "2019-10-07 13:28:17.031145: I external/org_tensorflow/tensorflow/core/platform/cpu_feature_guard.cc:142] Your CPU supports instructions that this TensorFlow binary was not compiled to use: AVX2 FMA\n",
            "2019-10-07 13:28:17.053072: I external/org_tensorflow/tensorflow/cc/saved_model/loader.cc:202] Restoring SavedModel bundle.\n",
            "2019-10-07 13:28:17.111263: I external/org_tensorflow/tensorflow/cc/saved_model/loader.cc:311] SavedModel load for tags { serve }; Status: success. Took 88309 microseconds.\n",
            "2019-10-07 13:28:17.111346: I tensorflow_serving/servables/tensorflow/saved_model_warmup.cc:103] No warmup data file found at /content/model/1/assets.extra/tf_serving_warmup_requests\n",
            "2019-10-07 13:28:17.111439: I tensorflow_serving/core/loader_harness.cc:86] Successfully loaded servable version {name: cifar10 version: 1}\n",
            "2019-10-07 13:28:17.112680: I tensorflow_serving/model_servers/server.cc:324] Running gRPC ModelServer at 0.0.0.0:8500 ...\n",
            "[warn] getaddrinfo: address family for nodename not supported\n",
            "2019-10-07 13:28:17.113392: I tensorflow_serving/model_servers/server.cc:344] Exporting HTTP/REST API at:localhost:8501 ...\n",
            "[evhttp_server.cc : 239] RAW: Entering the event loop ...\n"
          ],
          "name": "stdout"
        }
      ]
    },
    {
      "cell_type": "markdown",
      "metadata": {
        "id": "TlFrRb-qp8RA",
        "colab_type": "text"
      },
      "source": [
        "# Creating the first POST request"
      ]
    },
    {
      "cell_type": "code",
      "metadata": {
        "id": "dsoFEVAooNXQ",
        "colab_type": "code",
        "outputId": "aca3b02d-6104-473c-d7af-9b0fb2d3b9bf",
        "colab": {
          "base_uri": "https://localhost:8080/",
          "height": 34
        }
      },
      "source": [
        "random_image = np.random.np.random.randint(0, len(X_test))\n",
        "random_image"
      ],
      "execution_count": 0,
      "outputs": [
        {
          "output_type": "execute_result",
          "data": {
            "text/plain": [
              "8195"
            ]
          },
          "metadata": {
            "tags": []
          },
          "execution_count": 32
        }
      ]
    },
    {
      "cell_type": "code",
      "metadata": {
        "id": "CVI0K5O7qVoS",
        "colab_type": "code",
        "colab": {}
      },
      "source": [
        "# creating  the json data object\n",
        "data = json.dumps({\"signature_name\":\"serving_default\",\"instances\":[X_test[random_image].tolist()]})"
      ],
      "execution_count": 0,
      "outputs": []
    },
    {
      "cell_type": "code",
      "metadata": {
        "id": "t4YoxCuDrOHs",
        "colab_type": "code",
        "outputId": "d50f0754-dea2-4ecf-9636-923a0beea58c",
        "colab": {
          "base_uri": "https://localhost:8080/",
          "height": 54
        }
      },
      "source": [
        "data"
      ],
      "execution_count": 0,
      "outputs": [
        {
          "output_type": "execute_result",
          "data": {
            "text/plain": [
              "'{\"signature_name\": \"serving_default\", \"instances\": [[[[0.5098039215686274, 0.7607843137254902, 0.9921568627450981], [0.5137254901960784, 0.7647058823529411, 0.9882352941176471], [0.5215686274509804, 0.7764705882352941, 0.9882352941176471], [0.5294117647058824, 0.7843137254901961, 0.984313725490196], [0.5450980392156862, 0.7843137254901961, 0.9882352941176471], [0.5607843137254902, 0.788235294117647, 0.9686274509803922], [0.5568627450980392, 0.803921568627451, 0.9607843137254902], [0.5450980392156862, 0.796078431372549, 0.9882352941176471], [0.5411764705882353, 0.8, 0.9882352941176471], [0.5490196078431373, 0.8117647058823529, 0.9647058823529412], [0.5529411764705883, 0.8117647058823529, 0.9764705882352941], [0.5568627450980392, 0.807843137254902, 0.984313725490196], [0.5647058823529412, 0.807843137254902, 0.984313725490196], [0.5764705882352941, 0.807843137254902, 0.9882352941176471], [0.5843137254901961, 0.8, 0.9882352941176471], [0.5764705882352941, 0.8117647058823529, 0.9882352941176471], [0.5725490196078431, 0.8196078431372549, 0.9882352941176471], [0.5725490196078431, 0.8156862745098039, 0.9882352941176471], [0.5803921568627451, 0.8156862745098039, 0.9882352941176471], [0.5882352941176471, 0.807843137254902, 0.9882352941176471], [0.5882352941176471, 0.807843137254902, 0.984313725490196], [0.5725490196078431, 0.8156862745098039, 0.9882352941176471], [0.6039215686274509, 0.807843137254902, 0.9803921568627451], [0.6980392156862745, 0.8274509803921568, 0.9647058823529412], [0.8549019607843137, 0.9137254901960784, 0.9764705882352941], [0.9725490196078431, 0.984313725490196, 0.984313725490196], [0.9882352941176471, 0.9882352941176471, 0.9764705882352941], [0.9921568627450981, 0.9921568627450981, 0.9882352941176471], [0.9882352941176471, 0.9882352941176471, 0.9921568627450981], [0.9725490196078431, 0.9882352941176471, 0.9882352941176471], [0.9647058823529412, 0.9882352941176471, 0.9882352941176471], [0.9294117647058824, 0.9764705882352941, 0.9921568627450981]], [[0.5411764705882353, 0.788235294117647, 1.0], [0.5450980392156862, 0.788235294117647, 1.0], [0.5529411764705883, 0.8, 1.0], [0.5607843137254902, 0.8117647058823529, 1.0], [0.5725490196078431, 0.807843137254902, 1.0], [0.5882352941176471, 0.807843137254902, 0.984313725490196], [0.592156862745098, 0.8235294117647058, 0.9529411764705882], [0.5882352941176471, 0.8196078431372549, 0.984313725490196], [0.5803921568627451, 0.8235294117647058, 1.0], [0.5764705882352941, 0.8392156862745098, 0.9882352941176471], [0.5725490196078431, 0.8431372549019608, 0.9921568627450981], [0.5764705882352941, 0.8392156862745098, 1.0], [0.5882352941176471, 0.8392156862745098, 1.0], [0.6, 0.8431372549019608, 1.0], [0.6078431372549019, 0.8392156862745098, 1.0], [0.596078431372549, 0.8509803921568627, 1.0], [0.592156862745098, 0.8549019607843137, 1.0], [0.6, 0.8509803921568627, 1.0], [0.6078431372549019, 0.8509803921568627, 1.0], [0.611764705882353, 0.8470588235294118, 1.0], [0.6078431372549019, 0.8431372549019608, 1.0], [0.6196078431372549, 0.8431372549019608, 0.9882352941176471], [0.6823529411764706, 0.8627450980392157, 0.9921568627450981], [0.7843137254901961, 0.9019607843137255, 0.996078431372549], [0.9098039215686274, 0.9686274509803922, 1.0], [0.984313725490196, 0.996078431372549, 0.984313725490196], [1.0, 1.0, 0.984313725490196], [1.0, 1.0, 1.0], [1.0, 1.0, 1.0], [0.984313725490196, 0.996078431372549, 1.0], [0.9568627450980393, 0.9803921568627451, 0.9921568627450981], [0.9529411764705882, 0.9882352941176471, 1.0]], [[0.5607843137254902, 0.792156862745098, 0.996078431372549], [0.5647058823529412, 0.796078431372549, 0.9882352941176471], [0.5725490196078431, 0.807843137254902, 0.9882352941176471], [0.5803921568627451, 0.8156862745098039, 0.9882352941176471], [0.592156862745098, 0.8156862745098039, 0.996078431372549], [0.611764705882353, 0.8156862745098039, 0.9764705882352941], [0.6196078431372549, 0.8235294117647058, 0.9137254901960784], [0.6196078431372549, 0.8235294117647058, 0.9450980392156862], [0.611764705882353, 0.8313725490196079, 0.9921568627450981], [0.596078431372549, 0.8470588235294118, 0.984313725490196], [0.5882352941176471, 0.8549019607843137, 0.984313725490196], [0.592156862745098, 0.8549019607843137, 0.9921568627450981], [0.6039215686274509, 0.8549019607843137, 0.9921568627450981], [0.615686274509804, 0.8588235294117647, 0.996078431372549], [0.6235294117647059, 0.8549019607843137, 0.996078431372549], [0.611764705882353, 0.8627450980392157, 0.996078431372549], [0.6078431372549019, 0.8666666666666667, 0.996078431372549], [0.6274509803921569, 0.8627450980392157, 0.9882352941176471], [0.6392156862745098, 0.8549019607843137, 0.984313725490196], [0.6313725490196078, 0.8588235294117647, 0.996078431372549], [0.6313725490196078, 0.8549019607843137, 0.9882352941176471], [0.6666666666666666, 0.8509803921568627, 0.9568627450980393], [0.7725490196078432, 0.9176470588235294, 0.984313725490196], [0.8313725490196079, 0.9294117647058824, 0.9882352941176471], [0.9176470588235294, 0.9647058823529412, 0.9921568627450981], [0.9803921568627451, 0.996078431372549, 0.9764705882352941], [0.996078431372549, 0.996078431372549, 0.9725490196078431], [0.996078431372549, 0.996078431372549, 0.996078431372549], [0.9921568627450981, 0.996078431372549, 0.996078431372549], [0.9333333333333333, 0.9450980392156862, 0.9568627450980393], [0.9019607843137255, 0.9254901960784314, 0.9490196078431372], [0.9568627450980393, 0.9764705882352941, 0.9882352941176471]], [[0.5882352941176471, 0.803921568627451, 0.9882352941176471], [0.592156862745098, 0.807843137254902, 0.984313725490196], [0.6, 0.8196078431372549, 0.984313725490196], [0.6078431372549019, 0.8274509803921568, 0.9803921568627451], [0.615686274509804, 0.8235294117647058, 0.996078431372549], [0.6392156862745098, 0.8352941176470589, 0.9764705882352941], [0.6431372549019608, 0.8235294117647058, 0.8745098039215686], [0.6588235294117647, 0.8313725490196079, 0.8980392156862745], [0.6509803921568628, 0.8509803921568627, 0.984313725490196], [0.6235294117647059, 0.8627450980392157, 0.996078431372549], [0.615686274509804, 0.8666666666666667, 0.9882352941176471], [0.6235294117647059, 0.8705882352941177, 0.9921568627450981], [0.6352941176470588, 0.8705882352941177, 0.996078431372549], [0.6470588235294118, 0.8705882352941177, 1.0], [0.6509803921568628, 0.8705882352941177, 1.0], [0.6431372549019608, 0.8745098039215686, 1.0], [0.6509803921568628, 0.8745098039215686, 0.9921568627450981], [0.6823529411764706, 0.8666666666666667, 0.9647058823529412], [0.6901960784313725, 0.8549019607843137, 0.9490196078431372], [0.6901960784313725, 0.8705882352941177, 0.9882352941176471], [0.6823529411764706, 0.8745098039215686, 0.9882352941176471], [0.7372549019607844, 0.8862745098039215, 0.9607843137254902], [0.8431372549019608, 0.9568627450980393, 0.9921568627450981], [0.8549019607843137, 0.9333333333333333, 0.9803921568627451], [0.9176470588235294, 0.9568627450980393, 0.984313725490196], [0.9803921568627451, 0.996078431372549, 0.9764705882352941], [0.996078431372549, 1.0, 0.9803921568627451], [1.0, 1.0, 1.0], [0.996078431372549, 1.0, 1.0], [0.9137254901960784, 0.9294117647058824, 0.9372549019607843], [0.9058823529411765, 0.9294117647058824, 0.9490196078431372], [0.9607843137254902, 0.9803921568627451, 0.9921568627450981]], [[0.6078431372549019, 0.8117647058823529, 0.9803921568627451], [0.6078431372549019, 0.8156862745098039, 0.9764705882352941], [0.6196078431372549, 0.8274509803921568, 0.9764705882352941], [0.6235294117647059, 0.8352941176470589, 0.9725490196078431], [0.6313725490196078, 0.8313725490196079, 0.9921568627450981], [0.6627450980392157, 0.8392156862745098, 0.9686274509803922], [0.6666666666666666, 0.8235294117647058, 0.8392156862745098], [0.6901960784313725, 0.8352941176470589, 0.8588235294117647], [0.6784313725490196, 0.8588235294117647, 0.9607843137254902], [0.6470588235294118, 0.8745098039215686, 1.0], [0.6470588235294118, 0.8745098039215686, 0.9882352941176471], [0.6627450980392157, 0.8784313725490196, 0.9882352941176471], [0.6705882352941176, 0.8823529411764706, 0.9921568627450981], [0.6823529411764706, 0.8784313725490196, 0.996078431372549], [0.6862745098039216, 0.8745098039215686, 0.996078431372549], [0.6862745098039216, 0.8784313725490196, 0.9921568627450981], [0.7215686274509804, 0.8862745098039215, 0.9764705882352941], [0.7450980392156863, 0.8588235294117647, 0.9215686274509803], [0.7294117647058823, 0.8196078431372549, 0.8784313725490196], [0.7647058823529411, 0.8823529411764706, 0.9647058823529412], [0.7764705882352941, 0.9137254901960784, 0.996078431372549], [0.8392156862745098, 0.9450980392156862, 0.9882352941176471], [0.8941176470588236, 0.9686274509803922, 1.0], [0.8784313725490196, 0.9294117647058824, 0.984313725490196], [0.9254901960784314, 0.9568627450980393, 0.9882352941176471], [0.9764705882352941, 0.9882352941176471, 0.984313725490196], [0.996078431372549, 1.0, 0.9882352941176471], [1.0, 1.0, 1.0], [0.996078431372549, 1.0, 1.0], [0.9529411764705882, 0.9686274509803922, 0.9764705882352941], [0.9490196078431372, 0.9725490196078431, 0.984313725490196], [0.9450980392156862, 0.9725490196078431, 0.9921568627450981]], [[0.6274509803921569, 0.8235294117647058, 0.9764705882352941], [0.6313725490196078, 0.8274509803921568, 0.9725490196078431], [0.6392156862745098, 0.8352941176470589, 0.9725490196078431], [0.6470588235294118, 0.8431372549019608, 0.9725490196078431], [0.6549019607843137, 0.8431372549019608, 0.9921568627450981], [0.6784313725490196, 0.8470588235294118, 0.9647058823529412], [0.7058823529411765, 0.8470588235294118, 0.8431372549019608], [0.7294117647058823, 0.8549019607843137, 0.8509803921568627], [0.6980392156862745, 0.8666666666666667, 0.9568627450980393], [0.6627450980392157, 0.8784313725490196, 1.0], [0.6784313725490196, 0.8823529411764706, 0.9882352941176471], [0.6980392156862745, 0.8862745098039215, 0.9882352941176471], [0.7137254901960784, 0.8862745098039215, 0.9921568627450981], [0.7254901960784313, 0.8901960784313725, 0.996078431372549], [0.7294117647058823, 0.8901960784313725, 0.996078431372549], [0.7411764705882353, 0.8901960784313725, 0.9921568627450981], [0.8, 0.9058823529411765, 0.9803921568627451], [0.8117647058823529, 0.8627450980392157, 0.8980392156862745], [0.7647058823529411, 0.796078431372549, 0.8235294117647058], [0.788235294117647, 0.8509803921568627, 0.9176470588235294], [0.8, 0.8901960784313725, 0.9725490196078431], [0.8470588235294118, 0.9215686274509803, 0.9764705882352941], [0.8784313725490196, 0.9294117647058824, 0.984313725490196], [0.8823529411764706, 0.9215686274509803, 0.984313725490196], [0.9333333333333333, 0.9529411764705882, 0.9921568627450981], [0.9725490196078431, 0.984313725490196, 0.9921568627450981], [0.996078431372549, 0.996078431372549, 0.9882352941176471], [1.0, 1.0, 0.996078431372549], [0.996078431372549, 0.996078431372549, 0.996078431372549], [0.9725490196078431, 0.9882352941176471, 0.9921568627450981], [0.9529411764705882, 0.9764705882352941, 0.9882352941176471], [0.9176470588235294, 0.9568627450980393, 0.984313725490196]], [[0.6588235294117647, 0.8235294117647058, 0.9647058823529412], [0.6705882352941176, 0.8274509803921568, 0.9607843137254902], [0.6862745098039216, 0.8392156862745098, 0.9647058823529412], [0.6941176470588235, 0.8431372549019608, 0.9647058823529412], [0.6941176470588235, 0.8431372549019608, 0.984313725490196], [0.7019607843137254, 0.8470588235294118, 0.9568627450980393], [0.7333333333333333, 0.8470588235294118, 0.8470588235294118], [0.7450980392156863, 0.8431372549019608, 0.8549019607843137], [0.7254901960784313, 0.8588235294117647, 0.9529411764705882], [0.6941176470588235, 0.8745098039215686, 0.9921568627450981], [0.7176470588235294, 0.8784313725490196, 0.9803921568627451], [0.7647058823529411, 0.8901960784313725, 0.984313725490196], [0.796078431372549, 0.8941176470588236, 0.9882352941176471], [0.7843137254901961, 0.8784313725490196, 0.9568627450980393], [0.7764705882352941, 0.8901960784313725, 0.9490196078431372], [0.8, 0.9058823529411765, 0.9725490196078431], [0.8392156862745098, 0.8941176470588236, 0.9803921568627451], [0.8549019607843137, 0.8549019607843137, 0.9137254901960784], [0.8, 0.8, 0.8196078431372549], [0.7803921568627451, 0.8313725490196079, 0.8784313725490196], [0.7450980392156863, 0.8313725490196079, 0.9411764705882353], [0.7803921568627451, 0.8470588235294118, 0.9294117647058824], [0.8274509803921568, 0.8784313725490196, 0.9450980392156862], [0.8549019607843137, 0.8941176470588236, 0.9411764705882353], [0.9333333333333333, 0.9568627450980393, 0.9725490196078431], [0.9725490196078431, 0.9882352941176471, 0.9764705882352941], [0.9882352941176471, 0.9921568627450981, 0.9647058823529412], [1.0, 1.0, 0.9725490196078431], [0.996078431372549, 0.996078431372549, 0.984313725490196], [0.9607843137254902, 0.9686274509803922, 0.9764705882352941], [0.9176470588235294, 0.9333333333333333, 0.9568627450980393], [0.8862745098039215, 0.9176470588235294, 0.9568627450980393]], [[0.6705882352941176, 0.807843137254902, 0.9450980392156862], [0.6823529411764706, 0.8117647058823529, 0.9411764705882353], [0.6941176470588235, 0.8156862745098039, 0.9372549019607843], [0.7098039215686275, 0.8196078431372549, 0.9333333333333333], [0.7058823529411765, 0.8235294117647058, 0.9607843137254902], [0.7254901960784313, 0.8470588235294118, 0.9490196078431372], [0.7333333333333333, 0.8235294117647058, 0.8392156862745098], [0.7411764705882353, 0.8117647058823529, 0.8392156862745098], [0.7450980392156863, 0.8470588235294118, 0.9372549019607843], [0.7254901960784313, 0.8705882352941177, 0.9803921568627451], [0.7647058823529411, 0.8705882352941177, 0.9764705882352941], [0.8313725490196079, 0.8901960784313725, 0.9882352941176471], [0.8901960784313725, 0.9137254901960784, 0.996078431372549], [0.8901960784313725, 0.9176470588235294, 0.9725490196078431], [0.8431372549019608, 0.8980392156862745, 0.9333333333333333], [0.8509803921568627, 0.9215686274509803, 0.9529411764705882], [0.8980392156862745, 0.9372549019607843, 0.9882352941176471], [0.8784313725490196, 0.8745098039215686, 0.9215686274509803], [0.7764705882352941, 0.7803921568627451, 0.7725490196078432], [0.7803921568627451, 0.8431372549019608, 0.8627450980392157], [0.7450980392156863, 0.8470588235294118, 0.9490196078431372], [0.7764705882352941, 0.8549019607843137, 0.9450980392156862], [0.8392156862745098, 0.9058823529411765, 0.9686274509803922], [0.8588235294117647, 0.9137254901960784, 0.9568627450980393], [0.9294117647058824, 0.9725490196078431, 0.9882352941176471], [0.9490196078431372, 0.9882352941176471, 0.9882352941176471], [0.9607843137254902, 0.9803921568627451, 0.9725490196078431], [0.9607843137254902, 0.9764705882352941, 0.9686274509803922], [0.9333333333333333, 0.9568627450980393, 0.9607843137254902], [0.8823529411764706, 0.9098039215686274, 0.9411764705882353], [0.8196078431372549, 0.8509803921568627, 0.9058823529411765], [0.7843137254901961, 0.8274509803921568, 0.8980392156862745]], [[0.6862745098039216, 0.807843137254902, 0.9372549019607843], [0.6980392156862745, 0.8117647058823529, 0.9333333333333333], [0.7098039215686275, 0.8117647058823529, 0.9294117647058824], [0.7215686274509804, 0.8156862745098039, 0.9254901960784314], [0.7215686274509804, 0.8274509803921568, 0.9490196078431372], [0.7333333333333333, 0.8392156862745098, 0.9411764705882353], [0.7686274509803922, 0.8352941176470589, 0.8705882352941177], [0.8, 0.8470588235294118, 0.8627450980392157], [0.7686274509803922, 0.8509803921568627, 0.9176470588235294], [0.7450980392156863, 0.8588235294117647, 0.9725490196078431], [0.7843137254901961, 0.8549019607843137, 0.9686274509803922], [0.8313725490196079, 0.8549019607843137, 0.9647058823529412], [0.9019607843137255, 0.9019607843137255, 0.9882352941176471], [0.9372549019607843, 0.9411764705882353, 0.9921568627450981], [0.8901960784313725, 0.9058823529411765, 0.9568627450980393], [0.8823529411764706, 0.9411764705882353, 0.9529411764705882], [0.8941176470588236, 0.9490196078431372, 0.9607843137254902], [0.8705882352941177, 0.8862745098039215, 0.9058823529411765], [0.8156862745098039, 0.8392156862745098, 0.807843137254902], [0.796078431372549, 0.8627450980392157, 0.8588235294117647], [0.7725490196078432, 0.8666666666666667, 0.9529411764705882], [0.7843137254901961, 0.8784313725490196, 0.9686274509803922], [0.8156862745098039, 0.9019607843137255, 0.9803921568627451], [0.8313725490196079, 0.9098039215686274, 0.984313725490196], [0.8470588235294118, 0.9176470588235294, 0.984313725490196], [0.8470588235294118, 0.9098039215686274, 0.9803921568627451], [0.8274509803921568, 0.8862745098039215, 0.9450980392156862], [0.807843137254902, 0.8745098039215686, 0.9294117647058824], [0.7764705882352941, 0.8470588235294118, 0.9137254901960784], [0.7372549019607844, 0.8117647058823529, 0.9019607843137255], [0.6980392156862745, 0.7803921568627451, 0.8862745098039215], [0.6901960784313725, 0.7764705882352941, 0.8901960784313725]], [[0.6941176470588235, 0.796078431372549, 0.9019607843137255], [0.7058823529411765, 0.8, 0.8980392156862745], [0.7215686274509804, 0.807843137254902, 0.8980392156862745], [0.7333333333333333, 0.807843137254902, 0.8941176470588236], [0.7333333333333333, 0.8274509803921568, 0.9137254901960784], [0.7411764705882353, 0.8313725490196079, 0.9215686274509803], [0.7843137254901961, 0.8274509803921568, 0.8705882352941177], [0.803921568627451, 0.8274509803921568, 0.807843137254902], [0.7725490196078432, 0.8235294117647058, 0.8352941176470589], [0.7725490196078432, 0.8509803921568627, 0.9490196078431372], [0.7803921568627451, 0.8431372549019608, 0.9372549019607843], [0.803921568627451, 0.8509803921568627, 0.9294117647058824], [0.8627450980392157, 0.8941176470588236, 0.9568627450980393], [0.8745098039215686, 0.9019607843137255, 0.9490196078431372], [0.8666666666666667, 0.8941176470588236, 0.9411764705882353], [0.8627450980392157, 0.9137254901960784, 0.9254901960784314], [0.8431372549019608, 0.8941176470588236, 0.9137254901960784], [0.8431372549019608, 0.8588235294117647, 0.8980392156862745], [0.8313725490196079, 0.8470588235294118, 0.8392156862745098], [0.788235294117647, 0.8313725490196079, 0.8431372549019608], [0.7411764705882353, 0.8117647058823529, 0.8980392156862745], [0.7137254901960784, 0.807843137254902, 0.8941176470588236], [0.7098039215686275, 0.803921568627451, 0.8941176470588236], [0.7098039215686275, 0.796078431372549, 0.9019607843137255], [0.7058823529411765, 0.788235294117647, 0.9058823529411765], [0.6980392156862745, 0.7725490196078432, 0.9058823529411765], [0.6784313725490196, 0.7647058823529411, 0.8784313725490196], [0.6666666666666666, 0.7686274509803922, 0.8666666666666667], [0.6509803921568628, 0.7568627450980392, 0.8666666666666667], [0.6235294117647059, 0.7411764705882353, 0.8588235294117647], [0.6039215686274509, 0.7254901960784313, 0.8549019607843137], [0.611764705882353, 0.7333333333333333, 0.8627450980392157]], [[0.6823529411764706, 0.7725490196078432, 0.8313725490196079], [0.7176470588235294, 0.792156862745098, 0.8470588235294118], [0.7568627450980392, 0.8235294117647058, 0.8705882352941177], [0.7764705882352941, 0.8352941176470589, 0.8745098039215686], [0.7725490196078432, 0.8549019607843137, 0.8862745098039215], [0.7411764705882353, 0.8156862745098039, 0.8705882352941177], [0.7568627450980392, 0.7725490196078432, 0.8117647058823529], [0.7725490196078432, 0.7686274509803922, 0.6980392156862745], [0.6705882352941176, 0.6901960784313725, 0.6313725490196078], [0.7019607843137254, 0.7450980392156863, 0.807843137254902], [0.6980392156862745, 0.7725490196078432, 0.8196078431372549], [0.6784313725490196, 0.7647058823529411, 0.7843137254901961], [0.6823529411764706, 0.7647058823529411, 0.7843137254901961], [0.7019607843137254, 0.7725490196078432, 0.788235294117647], [0.7176470588235294, 0.7725490196078432, 0.788235294117647], [0.7725490196078432, 0.8156862745098039, 0.8274509803921568], [0.8156862745098039, 0.8392156862745098, 0.8862745098039215], [0.803921568627451, 0.803921568627451, 0.8705882352941177], [0.8, 0.803921568627451, 0.8117647058823529], [0.792156862745098, 0.803921568627451, 0.8117647058823529], [0.7411764705882353, 0.7686274509803922, 0.8352941176470589], [0.7215686274509804, 0.7843137254901961, 0.8509803921568627], [0.7098039215686275, 0.7803921568627451, 0.8509803921568627], [0.6823529411764706, 0.7529411764705882, 0.8431372549019608], [0.6470588235294118, 0.7176470588235294, 0.8313725490196079], [0.6509803921568628, 0.7215686274509804, 0.8509803921568627], [0.6392156862745098, 0.7254901960784313, 0.8392156862745098], [0.615686274509804, 0.7098039215686275, 0.8117647058823529], [0.6, 0.7058823529411765, 0.807843137254902], [0.5843137254901961, 0.7019607843137254, 0.807843137254902], [0.5686274509803921, 0.6901960784313725, 0.8], [0.5647058823529412, 0.6862745098039216, 0.796078431372549]], [[0.5098039215686274, 0.5843137254901961, 0.5882352941176471], [0.5607843137254902, 0.6274509803921569, 0.6274509803921569], [0.6431372549019608, 0.7019607843137254, 0.6901960784313725], [0.6627450980392157, 0.7098039215686275, 0.6941176470588235], [0.6549019607843137, 0.7254901960784313, 0.6941176470588235], [0.5843137254901961, 0.6509803921568628, 0.6588235294117647], [0.6392156862745098, 0.6392156862745098, 0.6549019607843137], [0.7764705882352941, 0.7529411764705882, 0.6235294117647059], [0.6509803921568628, 0.6470588235294118, 0.5058823529411764], [0.6470588235294118, 0.6588235294117647, 0.6745098039215687], [0.5529411764705883, 0.6, 0.6039215686274509], [0.49411764705882355, 0.5686274509803921, 0.5411764705882353], [0.5450980392156862, 0.6313725490196078, 0.6039215686274509], [0.5686274509803921, 0.6352941176470588, 0.611764705882353], [0.5647058823529412, 0.596078431372549, 0.5882352941176471], [0.6862745098039216, 0.6980392156862745, 0.6901960784313725], [0.7725490196078432, 0.7686274509803922, 0.8], [0.6941176470588235, 0.6784313725490196, 0.7215686274509804], [0.7254901960784313, 0.7098039215686275, 0.6705882352941176], [0.803921568627451, 0.7843137254901961, 0.7137254901960784], [0.7686274509803922, 0.7529411764705882, 0.7294117647058823], [0.7568627450980392, 0.7725490196078432, 0.792156862745098], [0.7019607843137254, 0.7254901960784313, 0.7607843137254902], [0.6313725490196078, 0.6627450980392157, 0.7098039215686275], [0.5686274509803921, 0.6078431372549019, 0.6666666666666666], [0.6078431372549019, 0.6549019607843137, 0.7215686274509804], [0.592156862745098, 0.6431372549019608, 0.7058823529411765], [0.5450980392156862, 0.6078431372549019, 0.6627450980392157], [0.5294117647058824, 0.596078431372549, 0.6509803921568628], [0.5686274509803921, 0.6470588235294118, 0.6980392156862745], [0.5607843137254902, 0.6470588235294118, 0.6941176470588235], [0.5254901960784314, 0.6196078431372549, 0.6705882352941176]], [[0.3411764705882353, 0.403921568627451, 0.36470588235294116], [0.34901960784313724, 0.403921568627451, 0.3568627450980392], [0.4, 0.4470588235294118, 0.39215686274509803], [0.40784313725490196, 0.4470588235294118, 0.38823529411764707], [0.38823529411764707, 0.4470588235294118, 0.3686274509803922], [0.3686274509803922, 0.4235294117647059, 0.396078431372549], [0.47058823529411764, 0.4549019607843137, 0.45098039215686275], [0.7490196078431373, 0.7176470588235294, 0.5372549019607843], [0.7764705882352941, 0.7607843137254902, 0.5568627450980392], [0.6745098039215687, 0.6588235294117647, 0.6313725490196078], [0.5568627450980392, 0.5411764705882353, 0.5215686274509804], [0.44313725490196076, 0.45098039215686275, 0.4], [0.5882352941176471, 0.611764705882353, 0.5647058823529412], [0.6549019607843137, 0.6588235294117647, 0.6196078431372549], [0.6078431372549019, 0.5725490196078431, 0.5529411764705883], [0.6352941176470588, 0.6, 0.5647058823529412], [0.6666666666666666, 0.6431372549019608, 0.615686274509804], [0.6039215686274509, 0.5803921568627451, 0.5490196078431373], [0.6627450980392157, 0.6392156862745098, 0.5098039215686274], [0.7803921568627451, 0.7450980392156863, 0.5490196078431373], [0.7647058823529411, 0.7176470588235294, 0.5725490196078431], [0.7019607843137254, 0.6705882352941176, 0.6431372549019608], [0.6274509803921569, 0.6078431372549019, 0.6078431372549019], [0.5843137254901961, 0.5764705882352941, 0.5725490196078431], [0.47843137254901963, 0.49019607843137253, 0.48627450980392156], [0.49411764705882355, 0.5137254901960784, 0.5098039215686274], [0.5137254901960784, 0.5294117647058824, 0.5294117647058824], [0.4666666666666667, 0.47843137254901963, 0.47843137254901963], [0.4392156862745098, 0.4588235294117647, 0.45098039215686275], [0.5019607843137255, 0.5333333333333333, 0.5254901960784314], [0.5098039215686274, 0.5490196078431373, 0.5294117647058824], [0.47843137254901963, 0.5254901960784314, 0.5215686274509804]], [[0.49411764705882355, 0.49411764705882355, 0.4588235294117647], [0.49019607843137253, 0.48627450980392156, 0.44313725490196076], [0.5058823529411764, 0.5019607843137255, 0.44313725490196076], [0.5215686274509804, 0.5137254901960784, 0.4470588235294118], [0.5019607843137255, 0.5137254901960784, 0.4549019607843137], [0.5176470588235295, 0.5294117647058824, 0.5176470588235295], [0.5098039215686274, 0.47843137254901963, 0.4470588235294118], [0.7450980392156863, 0.7019607843137254, 0.5372549019607843], [0.8196078431372549, 0.788235294117647, 0.5882352941176471], [0.6823529411764706, 0.6431372549019608, 0.5450980392156862], [0.6352941176470588, 0.5568627450980392, 0.49019607843137253], [0.592156862745098, 0.5137254901960784, 0.4470588235294118], [0.7098039215686275, 0.6470588235294118, 0.596078431372549], [0.7764705882352941, 0.7176470588235294, 0.6941176470588235], [0.6901960784313725, 0.6352941176470588, 0.6431372549019608], [0.6627450980392157, 0.6196078431372549, 0.6039215686274509], [0.6352941176470588, 0.6039215686274509, 0.5725490196078431], [0.5686274509803921, 0.5411764705882353, 0.5019607843137255], [0.6274509803921569, 0.6, 0.47058823529411764], [0.7372549019607844, 0.6862745098039216, 0.4588235294117647], [0.7686274509803922, 0.7098039215686275, 0.49411764705882355], [0.6431372549019608, 0.615686274509804, 0.5568627450980392], [0.5843137254901961, 0.5725490196078431, 0.5490196078431373], [0.592156862745098, 0.5882352941176471, 0.5529411764705883], [0.5568627450980392, 0.5607843137254902, 0.5254901960784314], [0.5803921568627451, 0.5882352941176471, 0.5529411764705883], [0.615686274509804, 0.6274509803921569, 0.596078431372549], [0.5882352941176471, 0.5803921568627451, 0.5450980392156862], [0.5843137254901961, 0.5764705882352941, 0.5411764705882353], [0.5803921568627451, 0.592156862745098, 0.5803921568627451], [0.5607843137254902, 0.5529411764705883, 0.5450980392156862], [0.611764705882353, 0.5882352941176471, 0.5647058823529412]], [[0.7058823529411765, 0.6509803921568628, 0.6431372549019608], [0.7137254901960784, 0.6588235294117647, 0.6352941176470588], [0.7058823529411765, 0.6549019607843137, 0.615686274509804], [0.6901960784313725, 0.6431372549019608, 0.5882352941176471], [0.7176470588235294, 0.6705882352941176, 0.6470588235294118], [0.7254901960784313, 0.6745098039215687, 0.6666666666666666], [0.6627450980392157, 0.6, 0.5254901960784314], [0.7333333333333333, 0.6705882352941176, 0.5137254901960784], [0.7490196078431373, 0.6901960784313725, 0.5019607843137255], [0.6666666666666666, 0.6, 0.43137254901960786], [0.6235294117647059, 0.5294117647058824, 0.4196078431372549], [0.7568627450980392, 0.6431372549019608, 0.5568627450980392], [0.7843137254901961, 0.6745098039215687, 0.6078431372549019], [0.7490196078431373, 0.6666666666666666, 0.6313725490196078], [0.6, 0.5529411764705883, 0.5607843137254902], [0.5686274509803921, 0.5333333333333333, 0.5372549019607843], [0.5764705882352941, 0.5411764705882353, 0.5294117647058824], [0.5098039215686274, 0.49019607843137253, 0.4745098039215686], [0.6352941176470588, 0.6078431372549019, 0.5372549019607843], [0.7764705882352941, 0.7333333333333333, 0.5529411764705883], [0.8745098039215686, 0.8235294117647058, 0.611764705882353], [0.7607843137254902, 0.7294117647058823, 0.6470588235294118], [0.6666666666666666, 0.6431372549019608, 0.6039215686274509], [0.6627450980392157, 0.6431372549019608, 0.6039215686274509], [0.6549019607843137, 0.6352941176470588, 0.6039215686274509], [0.6823529411764706, 0.6666666666666666, 0.6392156862745098], [0.7137254901960784, 0.6941176470588235, 0.6588235294117647], [0.7529411764705882, 0.7019607843137254, 0.6274509803921569], [0.7058823529411765, 0.6509803921568628, 0.5764705882352941], [0.5843137254901961, 0.5764705882352941, 0.5529411764705883], [0.5137254901960784, 0.48627450980392156, 0.47058823529411764], [0.5882352941176471, 0.5294117647058824, 0.47843137254901963]], [[0.7686274509803922, 0.7019607843137254, 0.6941176470588235], [0.7568627450980392, 0.6941176470588235, 0.6745098039215687], [0.7529411764705882, 0.6901960784313725, 0.6627450980392157], [0.7294117647058823, 0.6666666666666666, 0.6274509803921569], [0.7529411764705882, 0.6745098039215687, 0.6392156862745098], [0.8, 0.6941176470588235, 0.6392156862745098], [0.7568627450980392, 0.6666666666666666, 0.5450980392156862], [0.8823529411764706, 0.803921568627451, 0.6274509803921569], [0.9607843137254902, 0.8980392156862745, 0.7019607843137254], [0.9058823529411765, 0.8274509803921568, 0.6431372549019608], [0.7764705882352941, 0.6980392156862745, 0.5843137254901961], [0.7215686274509804, 0.6274509803921569, 0.5333333333333333], [0.7725490196078432, 0.6705882352941176, 0.5764705882352941], [0.796078431372549, 0.7058823529411765, 0.6352941176470588], [0.6823529411764706, 0.615686274509804, 0.5725490196078431], [0.6470588235294118, 0.5882352941176471, 0.5529411764705883], [0.7176470588235294, 0.6705882352941176, 0.6352941176470588], [0.6862745098039216, 0.6666666666666666, 0.6392156862745098], [0.6941176470588235, 0.6823529411764706, 0.6235294117647059], [0.7215686274509804, 0.7098039215686275, 0.5725490196078431], [0.9176470588235294, 0.8862745098039215, 0.7137254901960784], [0.8156862745098039, 0.7411764705882353, 0.6352941176470588], [0.6862745098039216, 0.6039215686274509, 0.5294117647058824], [0.6901960784313725, 0.615686274509804, 0.5647058823529412], [0.7058823529411765, 0.6431372549019608, 0.611764705882353], [0.6745098039215687, 0.6196078431372549, 0.6], [0.7411764705882353, 0.6666666666666666, 0.611764705882353], [0.788235294117647, 0.6627450980392157, 0.5450980392156862], [0.7019607843137254, 0.5803921568627451, 0.45098039215686275], [0.615686274509804, 0.5764705882352941, 0.47843137254901963], [0.5607843137254902, 0.5450980392156862, 0.44313725490196076], [0.5333333333333333, 0.4980392156862745, 0.3843137254901961]], [[0.7098039215686275, 0.6352941176470588, 0.6196078431372549], [0.7254901960784313, 0.6549019607843137, 0.6313725490196078], [0.7411764705882353, 0.6666666666666666, 0.6431372549019608], [0.7411764705882353, 0.6705882352941176, 0.6431372549019608], [0.7803921568627451, 0.6862745098039216, 0.6431372549019608], [0.8549019607843137, 0.7450980392156863, 0.6666666666666666], [0.8, 0.7215686274509804, 0.6039215686274509], [0.8392156862745098, 0.792156862745098, 0.6352941176470588], [0.9176470588235294, 0.8784313725490196, 0.7058823529411765], [0.8901960784313725, 0.8352941176470589, 0.6745098039215687], [0.7294117647058823, 0.6823529411764706, 0.5764705882352941], [0.6509803921568628, 0.5843137254901961, 0.4823529411764706], [0.7686274509803922, 0.6745098039215687, 0.5568627450980392], [0.796078431372549, 0.6941176470588235, 0.5764705882352941], [0.788235294117647, 0.7019607843137254, 0.592156862745098], [0.6901960784313725, 0.611764705882353, 0.5176470588235295], [0.7176470588235294, 0.6588235294117647, 0.5843137254901961], [0.7294117647058823, 0.7058823529411765, 0.6470588235294118], [0.5411764705882353, 0.5490196078431373, 0.47843137254901963], [0.43137254901960786, 0.45098039215686275, 0.34509803921568627], [0.5647058823529412, 0.5529411764705883, 0.41568627450980394], [0.7215686274509804, 0.6352941176470588, 0.4980392156862745], [0.7647058823529411, 0.6666666666666666, 0.5490196078431373], [0.7411764705882353, 0.6627450980392157, 0.5764705882352941], [0.7215686274509804, 0.6627450980392157, 0.6078431372549019], [0.7529411764705882, 0.7019607843137254, 0.6705882352941176], [0.796078431372549, 0.7529411764705882, 0.6823529411764706], [0.7607843137254902, 0.6627450980392157, 0.5215686274509804], [0.7686274509803922, 0.6392156862745098, 0.47843137254901963], [0.7254901960784313, 0.6588235294117647, 0.5372549019607843], [0.7333333333333333, 0.7098039215686275, 0.5882352941176471], [0.7215686274509804, 0.6862745098039216, 0.5686274509803921]], [[0.7529411764705882, 0.6784313725490196, 0.6313725490196078], [0.6588235294117647, 0.5803921568627451, 0.5372549019607843], [0.5647058823529412, 0.48627450980392156, 0.44313725490196076], [0.5333333333333333, 0.4549019607843137, 0.41568627450980394], [0.596078431372549, 0.5098039215686274, 0.4549019607843137], [0.8235294117647058, 0.7490196078431373, 0.6705882352941176], [0.6941176470588235, 0.6745098039215687, 0.5803921568627451], [0.4117647058823529, 0.43137254901960786, 0.3254901960784314], [0.39215686274509803, 0.41568627450980394, 0.30196078431372547], [0.5019607843137255, 0.5098039215686274, 0.4], [0.5607843137254902, 0.5372549019607843, 0.4470588235294118], [0.6, 0.5450980392156862, 0.44313725490196076], [0.7686274509803922, 0.6784313725490196, 0.5450980392156862], [0.8, 0.6980392156862745, 0.5450980392156862], [0.8156862745098039, 0.7215686274509804, 0.5764705882352941], [0.803921568627451, 0.7098039215686275, 0.5764705882352941], [0.7490196078431373, 0.6784313725490196, 0.5607843137254902], [0.6509803921568628, 0.6235294117647059, 0.5254901960784314], [0.4392156862745098, 0.4470588235294118, 0.3568627450980392], [0.5137254901960784, 0.5294117647058824, 0.4392156862745098], [0.6509803921568628, 0.6509803921568628, 0.5372549019607843], [0.7215686274509804, 0.6784313725490196, 0.5176470588235295], [0.807843137254902, 0.7568627450980392, 0.6039215686274509], [0.7764705882352941, 0.7333333333333333, 0.6196078431372549], [0.7843137254901961, 0.7529411764705882, 0.6745098039215687], [0.8117647058823529, 0.792156862745098, 0.7372549019607844], [0.807843137254902, 0.8431372549019608, 0.7647058823529411], [0.8, 0.7764705882352941, 0.6470588235294118], [0.7607843137254902, 0.6470588235294118, 0.5137254901960784], [0.6196078431372549, 0.5333333333333333, 0.4627450980392157], [0.6039215686274509, 0.5490196078431373, 0.5137254901960784], [0.6078431372549019, 0.5686274509803921, 0.5254901960784314]], [[0.8156862745098039, 0.7333333333333333, 0.6431372549019608], [0.6470588235294118, 0.5686274509803921, 0.4823529411764706], [0.47843137254901963, 0.396078431372549, 0.3254901960784314], [0.5254901960784314, 0.44313725490196076, 0.3803921568627451], [0.6352941176470588, 0.5411764705882353, 0.4666666666666667], [0.8, 0.7333333333333333, 0.6352941176470588], [0.6509803921568628, 0.6549019607843137, 0.5725490196078431], [0.42745098039215684, 0.49019607843137253, 0.41568627450980394], [0.33725490196078434, 0.40784313725490196, 0.32941176470588235], [0.4823529411764706, 0.5215686274509804, 0.45098039215686275], [0.6431372549019608, 0.6196078431372549, 0.5450980392156862], [0.6549019607843137, 0.5882352941176471, 0.48627450980392156], [0.8, 0.7098039215686275, 0.5725490196078431], [0.8392156862745098, 0.7411764705882353, 0.5882352941176471], [0.8352941176470589, 0.7490196078431373, 0.592156862745098], [0.8627450980392157, 0.7686274509803922, 0.6196078431372549], [0.8470588235294118, 0.7686274509803922, 0.6196078431372549], [0.6862745098039216, 0.6470588235294118, 0.5058823529411764], [0.49411764705882355, 0.48627450980392156, 0.3607843137254902], [0.5843137254901961, 0.5764705882352941, 0.47843137254901963], [0.6941176470588235, 0.6745098039215687, 0.5725490196078431], [0.7019607843137254, 0.6784313725490196, 0.5254901960784314], [0.7529411764705882, 0.7254901960784313, 0.5764705882352941], [0.7450980392156863, 0.7098039215686275, 0.592156862745098], [0.7372549019607844, 0.6901960784313725, 0.6078431372549019], [0.788235294117647, 0.7450980392156863, 0.6784313725490196], [0.8274509803921568, 0.8235294117647058, 0.7607843137254902], [0.8352941176470589, 0.7647058823529411, 0.6705882352941176], [0.796078431372549, 0.6235294117647059, 0.5372549019607843], [0.5882352941176471, 0.4588235294117647, 0.4549019607843137], [0.4235294117647059, 0.37254901960784315, 0.4196078431372549], [0.4588235294117647, 0.4470588235294118, 0.48627450980392156]], [[0.8156862745098039, 0.7333333333333333, 0.6039215686274509], [0.7764705882352941, 0.6980392156862745, 0.5764705882352941], [0.6627450980392157, 0.5803921568627451, 0.47843137254901963], [0.7019607843137254, 0.6196078431372549, 0.5254901960784314], [0.8117647058823529, 0.7019607843137254, 0.5843137254901961], [0.803921568627451, 0.6941176470588235, 0.5529411764705883], [0.7215686274509804, 0.7019607843137254, 0.592156862745098], [0.5686274509803921, 0.6235294117647059, 0.5333333333333333], [0.4470588235294118, 0.5019607843137255, 0.4196078431372549], [0.5568627450980392, 0.5764705882352941, 0.49411764705882355], [0.7058823529411765, 0.6627450980392157, 0.5882352941176471], [0.6941176470588235, 0.611764705882353, 0.5176470588235295], [0.7686274509803922, 0.6745098039215687, 0.5411764705882353], [0.803921568627451, 0.7137254901960784, 0.5686274509803921], [0.803921568627451, 0.7294117647058823, 0.5882352941176471], [0.8196078431372549, 0.7333333333333333, 0.5843137254901961], [0.807843137254902, 0.7215686274509804, 0.5529411764705883], [0.7647058823529411, 0.7137254901960784, 0.5450980392156862], [0.6980392156862745, 0.6666666666666666, 0.5137254901960784], [0.6392156862745098, 0.592156862745098, 0.4745098039215686], [0.6313725490196078, 0.5725490196078431, 0.47058823529411764], [0.6549019607843137, 0.6039215686274509, 0.4823529411764706], [0.6823529411764706, 0.6196078431372549, 0.5058823529411764], [0.6745098039215687, 0.5803921568627451, 0.48627450980392156], [0.6352941176470588, 0.5137254901960784, 0.44313725490196076], [0.6588235294117647, 0.5215686274509804, 0.4627450980392157], [0.807843137254902, 0.6431372549019608, 0.6078431372549019], [0.8705882352941177, 0.615686274509804, 0.5647058823529412], [0.7725490196078432, 0.4588235294117647, 0.40784313725490196], [0.5294117647058824, 0.34509803921568627, 0.37254901960784315], [0.33725490196078434, 0.3254901960784314, 0.4], [0.3176470588235294, 0.3764705882352941, 0.45098039215686275]], [[0.7843137254901961, 0.6823529411764706, 0.5490196078431373], [0.7764705882352941, 0.6823529411764706, 0.5568627450980392], [0.7686274509803922, 0.7098039215686275, 0.5764705882352941], [0.803921568627451, 0.7490196078431373, 0.6078431372549019], [0.8666666666666667, 0.7490196078431373, 0.6], [0.8274509803921568, 0.6823529411764706, 0.5333333333333333], [0.8, 0.7411764705882353, 0.6274509803921569], [0.6588235294117647, 0.6627450980392157, 0.5686274509803921], [0.615686274509804, 0.611764705882353, 0.5019607843137255], [0.6509803921568628, 0.615686274509804, 0.49019607843137253], [0.7098039215686275, 0.6627450980392157, 0.5568627450980392], [0.7215686274509804, 0.6627450980392157, 0.5529411764705883], [0.7254901960784313, 0.6470588235294118, 0.5215686274509804], [0.7568627450980392, 0.6666666666666666, 0.5411764705882353], [0.7411764705882353, 0.6549019607843137, 0.5411764705882353], [0.7333333333333333, 0.6549019607843137, 0.5372549019607843], [0.6941176470588235, 0.611764705882353, 0.49019607843137253], [0.7019607843137254, 0.6078431372549019, 0.49411764705882355], [0.6901960784313725, 0.5803921568627451, 0.47843137254901963], [0.6196078431372549, 0.49411764705882355, 0.4196078431372549], [0.6, 0.4588235294117647, 0.3803921568627451], [0.611764705882353, 0.42745098039215684, 0.3137254901960784], [0.6392156862745098, 0.396078431372549, 0.27450980392156865], [0.6823529411764706, 0.3686274509803922, 0.25882352941176473], [0.7058823529411765, 0.3411764705882353, 0.2549019607843137], [0.6980392156862745, 0.3176470588235294, 0.25098039215686274], [0.7647058823529411, 0.3843137254901961, 0.35294117647058826], [0.7529411764705882, 0.3568627450980392, 0.33725490196078434], [0.5843137254901961, 0.2235294117647059, 0.2235294117647059], [0.4823529411764706, 0.3058823529411765, 0.3568627450980392], [0.38823529411764707, 0.41568627450980394, 0.49019607843137253], [0.3176470588235294, 0.4235294117647059, 0.5019607843137255]], [[0.7372549019607844, 0.6196078431372549, 0.5176470588235295], [0.8, 0.6862745098039216, 0.5882352941176471], [0.8156862745098039, 0.7372549019607844, 0.6078431372549019], [0.8549019607843137, 0.7294117647058823, 0.5843137254901961], [0.8392156862745098, 0.6666666666666666, 0.5372549019607843], [0.7529411764705882, 0.6196078431372549, 0.5294117647058824], [0.7686274509803922, 0.7098039215686275, 0.6509803921568628], [0.6549019607843137, 0.6392156862745098, 0.5882352941176471], [0.6352941176470588, 0.6, 0.5058823529411764], [0.6274509803921569, 0.5568627450980392, 0.4196078431372549], [0.6901960784313725, 0.6078431372549019, 0.49411764705882355], [0.6784313725490196, 0.5843137254901961, 0.4823529411764706], [0.6392156862745098, 0.5215686274509804, 0.42745098039215684], [0.6509803921568628, 0.5058823529411764, 0.42745098039215684], [0.6352941176470588, 0.4745098039215686, 0.40784313725490196], [0.6274509803921569, 0.4549019607843137, 0.3764705882352941], [0.611764705882353, 0.4117647058823529, 0.3176470588235294], [0.6352941176470588, 0.3764705882352941, 0.30196078431372547], [0.6627450980392157, 0.3607843137254902, 0.29411764705882354], [0.6745098039215687, 0.36470588235294116, 0.2980392156862745], [0.6941176470588235, 0.3843137254901961, 0.30980392156862746], [0.7529411764705882, 0.4117647058823529, 0.30980392156862746], [0.7411764705882353, 0.3254901960784314, 0.21568627450980393], [0.7490196078431373, 0.25098039215686274, 0.1450980392156863], [0.7450980392156863, 0.2196078431372549, 0.12941176470588237], [0.7058823529411765, 0.2, 0.13333333333333333], [0.6313725490196078, 0.2235294117647059, 0.18823529411764706], [0.5490196078431373, 0.22745098039215686, 0.23921568627450981], [0.4392156862745098, 0.20392156862745098, 0.27058823529411763], [0.40784313725490196, 0.30980392156862746, 0.41568627450980394], [0.3607843137254902, 0.396078431372549, 0.5019607843137255], [0.30980392156862746, 0.4, 0.5058823529411764]], [[0.6274509803921569, 0.5529411764705883, 0.48627450980392156], [0.7803921568627451, 0.6784313725490196, 0.615686274509804], [0.7058823529411765, 0.5490196078431373, 0.4666666666666667], [0.7647058823529411, 0.43137254901960786, 0.3568627450980392], [0.788235294117647, 0.396078431372549, 0.35294117647058826], [0.6274509803921569, 0.3333333333333333, 0.3176470588235294], [0.7254901960784313, 0.48627450980392156, 0.4980392156862745], [0.7254901960784313, 0.5215686274509804, 0.5333333333333333], [0.6901960784313725, 0.4666666666666667, 0.43529411764705883], [0.6431372549019608, 0.37254901960784315, 0.29411764705882354], [0.7529411764705882, 0.403921568627451, 0.28627450980392155], [0.7647058823529411, 0.39215686274509803, 0.26666666666666666], [0.7254901960784313, 0.35294117647058826, 0.23921568627450981], [0.7137254901960784, 0.3333333333333333, 0.22745098039215686], [0.7058823529411765, 0.3215686274509804, 0.22745098039215686], [0.7647058823529411, 0.3058823529411765, 0.15294117647058825], [0.8196078431372549, 0.2901960784313726, 0.10196078431372549], [0.788235294117647, 0.2823529411764706, 0.1411764705882353], [0.8117647058823529, 0.36470588235294116, 0.2784313725490196], [0.8313725490196079, 0.4627450980392157, 0.41568627450980394], [0.7490196078431373, 0.42745098039215684, 0.403921568627451], [0.7450980392156863, 0.40784313725490196, 0.403921568627451], [0.6078431372549019, 0.23137254901960785, 0.22745098039215686], [0.5254901960784314, 0.1450980392156863, 0.13333333333333333], [0.47058823529411764, 0.1411764705882353, 0.13333333333333333], [0.4392156862745098, 0.1803921568627451, 0.1843137254901961], [0.4196078431372549, 0.2627450980392157, 0.27450980392156865], [0.38823529411764707, 0.2901960784313726, 0.3333333333333333], [0.36470588235294116, 0.29411764705882354, 0.396078431372549], [0.37254901960784315, 0.34509803921568627, 0.49411764705882355], [0.3411764705882353, 0.35294117647058826, 0.5176470588235295], [0.2980392156862745, 0.3411764705882353, 0.4980392156862745]], [[0.5098039215686274, 0.47843137254901963, 0.4627450980392157], [0.5450980392156862, 0.49019607843137253, 0.4627450980392157], [0.47058823529411764, 0.30196078431372547, 0.26666666666666666], [0.5803921568627451, 0.13725490196078433, 0.12941176470588237], [0.7686274509803922, 0.1450980392156863, 0.1450980392156863], [0.7529411764705882, 0.12941176470588237, 0.10980392156862745], [0.788235294117647, 0.20392156862745098, 0.2], [0.8117647058823529, 0.25098039215686274, 0.24313725490196078], [0.788235294117647, 0.20784313725490197, 0.17254901960784313], [0.8117647058823529, 0.2, 0.11764705882352941], [0.8862745098039215, 0.23529411764705882, 0.08235294117647059], [0.9019607843137255, 0.25098039215686274, 0.08235294117647059], [0.8941176470588236, 0.27058823529411763, 0.10588235294117647], [0.8705882352941177, 0.27058823529411763, 0.11372549019607843], [0.8313725490196079, 0.24705882352941178, 0.09803921568627451], [0.8, 0.21568627450980393, 0.08627450980392157], [0.7411764705882353, 0.1803921568627451, 0.0784313725490196], [0.6509803921568628, 0.1607843137254902, 0.10196078431372549], [0.6078431372549019, 0.2235294117647059, 0.20784313725490197], [0.5529411764705883, 0.2823529411764706, 0.30196078431372547], [0.4392156862745098, 0.2235294117647059, 0.27058823529411763], [0.43137254901960786, 0.19607843137254902, 0.27450980392156865], [0.3764705882352941, 0.1411764705882353, 0.2235294117647059], [0.3254901960784314, 0.13725490196078433, 0.2196078431372549], [0.2823529411764706, 0.17647058823529413, 0.2627450980392157], [0.27450980392156865, 0.25098039215686274, 0.3411764705882353], [0.28627450980392155, 0.3215686274509804, 0.396078431372549], [0.30980392156862746, 0.35294117647058826, 0.43529411764705883], [0.3137254901960784, 0.34901960784313724, 0.4666666666666667], [0.33725490196078434, 0.3607843137254902, 0.5137254901960784], [0.3333333333333333, 0.34901960784313724, 0.5215686274509804], [0.3058823529411765, 0.3333333333333333, 0.5019607843137255]], [[0.2, 0.1843137254901961, 0.22745098039215686], [0.15294117647058825, 0.1568627450980392, 0.16862745098039217], [0.18823529411764706, 0.11372549019607843, 0.10196078431372549], [0.4117647058823529, 0.08235294117647059, 0.09411764705882353], [0.6901960784313725, 0.14901960784313725, 0.13333333333333333], [0.7333333333333333, 0.15294117647058825, 0.0784313725490196], [0.6941176470588235, 0.13333333333333333, 0.06274509803921569], [0.7176470588235294, 0.16862745098039217, 0.09411764705882353], [0.7137254901960784, 0.1450980392156863, 0.06274509803921569], [0.7372549019607844, 0.15294117647058825, 0.058823529411764705], [0.7294117647058823, 0.15294117647058825, 0.07450980392156863], [0.6941176470588235, 0.1411764705882353, 0.0784313725490196], [0.6470588235294118, 0.13333333333333333, 0.07450980392156863], [0.592156862745098, 0.12549019607843137, 0.0784313725490196], [0.5450980392156862, 0.10588235294117647, 0.07058823529411765], [0.4549019607843137, 0.07450980392156863, 0.10196078431372549], [0.3843137254901961, 0.07058823529411765, 0.14901960784313725], [0.3607843137254902, 0.09411764705882353, 0.1607843137254902], [0.34509803921568627, 0.1411764705882353, 0.18823529411764706], [0.33725490196078434, 0.1843137254901961, 0.2196078431372549], [0.3137254901960784, 0.19607843137254902, 0.23529411764705882], [0.29411764705882354, 0.19215686274509805, 0.27058823529411763], [0.2784313725490196, 0.1843137254901961, 0.28627450980392155], [0.26666666666666666, 0.18823529411764706, 0.3137254901960784], [0.24705882352941178, 0.21568627450980393, 0.35294117647058826], [0.24313725490196078, 0.2549019607843137, 0.396078431372549], [0.2784313725490196, 0.3058823529411765, 0.4235294117647059], [0.3215686274509804, 0.34509803921568627, 0.45098039215686275], [0.32941176470588235, 0.36470588235294116, 0.47058823529411764], [0.32941176470588235, 0.37254901960784315, 0.48627450980392156], [0.3137254901960784, 0.36470588235294116, 0.48627450980392156], [0.2784313725490196, 0.3411764705882353, 0.4745098039215686]], [[0.2, 0.1803921568627451, 0.2627450980392157], [0.19607843137254902, 0.2235294117647059, 0.2784313725490196], [0.20784313725490197, 0.2235294117647059, 0.23529411764705882], [0.27450980392156865, 0.12156862745098039, 0.13333333333333333], [0.35294117647058826, 0.054901960784313725, 0.0784313725490196], [0.3686274509803922, 0.047058823529411764, 0.06666666666666667], [0.3607843137254902, 0.043137254901960784, 0.058823529411764705], [0.3843137254901961, 0.06274509803921569, 0.07058823529411765], [0.3803921568627451, 0.043137254901960784, 0.054901960784313725], [0.38823529411764707, 0.0392156862745098, 0.047058823529411764], [0.4235294117647059, 0.043137254901960784, 0.050980392156862744], [0.42745098039215684, 0.058823529411764705, 0.07450980392156863], [0.4, 0.07450980392156863, 0.10196078431372549], [0.3568627450980392, 0.08235294117647059, 0.12156862745098039], [0.32941176470588235, 0.08627450980392157, 0.13725490196078433], [0.3215686274509804, 0.08235294117647059, 0.14901960784313725], [0.3176470588235294, 0.09803921568627451, 0.1607843137254902], [0.30196078431372547, 0.12941176470588237, 0.17647058823529413], [0.2980392156862745, 0.17647058823529413, 0.20784313725490197], [0.3137254901960784, 0.21176470588235294, 0.23921568627450981], [0.30196078431372547, 0.2235294117647059, 0.2549019607843137], [0.25098039215686274, 0.23137254901960785, 0.29411764705882354], [0.23529411764705882, 0.2196078431372549, 0.3176470588235294], [0.24313725490196078, 0.21568627450980393, 0.34901960784313724], [0.24705882352941178, 0.21176470588235294, 0.3568627450980392], [0.27450980392156865, 0.23921568627450981, 0.3843137254901961], [0.3215686274509804, 0.2823529411764706, 0.4196078431372549], [0.3254901960784314, 0.29411764705882354, 0.4117647058823529], [0.3254901960784314, 0.32941176470588235, 0.4196078431372549], [0.2980392156862745, 0.3411764705882353, 0.4196078431372549], [0.2549019607843137, 0.3333333333333333, 0.4235294117647059], [0.23529411764705882, 0.3254901960784314, 0.44313725490196076]], [[0.2196078431372549, 0.21176470588235294, 0.30980392156862746], [0.22745098039215686, 0.22745098039215686, 0.3215686274509804], [0.2, 0.20784313725490197, 0.27058823529411763], [0.19215686274509805, 0.10196078431372549, 0.1568627450980392], [0.21176470588235294, 0.03529411764705882, 0.10588235294117647], [0.2235294117647059, 0.0392156862745098, 0.12156862745098039], [0.24705882352941178, 0.047058823529411764, 0.12156862745098039], [0.2784313725490196, 0.06274509803921569, 0.12941176470588237], [0.2901960784313726, 0.06666666666666667, 0.13333333333333333], [0.30196078431372547, 0.07058823529411765, 0.13333333333333333], [0.33725490196078434, 0.07058823529411765, 0.10588235294117647], [0.3411764705882353, 0.0784313725490196, 0.11764705882352941], [0.3176470588235294, 0.09803921568627451, 0.15294117647058825], [0.2901960784313726, 0.10588235294117647, 0.1843137254901961], [0.26666666666666666, 0.11372549019607843, 0.21176470588235294], [0.2549019607843137, 0.12941176470588237, 0.23921568627450981], [0.23921568627450981, 0.1411764705882353, 0.24705882352941178], [0.23921568627450981, 0.16470588235294117, 0.24313725490196078], [0.2549019607843137, 0.1843137254901961, 0.23529411764705882], [0.29411764705882354, 0.1843137254901961, 0.22745098039215686], [0.30980392156862746, 0.19215686274509805, 0.24705882352941178], [0.24705882352941178, 0.2196078431372549, 0.3176470588235294], [0.2196078431372549, 0.21568627450980393, 0.34901960784313724], [0.2196078431372549, 0.2196078431372549, 0.37254901960784315], [0.23137254901960785, 0.22745098039215686, 0.37254901960784315], [0.2549019607843137, 0.25098039215686274, 0.3764705882352941], [0.2901960784313726, 0.2901960784313726, 0.4235294117647059], [0.2823529411764706, 0.29411764705882354, 0.4235294117647059], [0.2784313725490196, 0.3137254901960784, 0.4117647058823529], [0.2627450980392157, 0.3215686274509804, 0.4196078431372549], [0.22745098039215686, 0.30196078431372547, 0.43137254901960786], [0.21176470588235294, 0.2901960784313726, 0.4470588235294118]], [[0.1843137254901961, 0.18823529411764706, 0.30196078431372547], [0.2, 0.16862745098039217, 0.30196078431372547], [0.1803921568627451, 0.15294117647058825, 0.27058823529411763], [0.17254901960784313, 0.09019607843137255, 0.20392156862745098], [0.1843137254901961, 0.07450980392156863, 0.16470588235294117], [0.1803921568627451, 0.09019607843137255, 0.1450980392156863], [0.21568627450980393, 0.10980392156862745, 0.14901960784313725], [0.25098039215686274, 0.12549019607843137, 0.15294117647058825], [0.2627450980392157, 0.13333333333333333, 0.1568627450980392], [0.2627450980392157, 0.12941176470588237, 0.1607843137254902], [0.25882352941176473, 0.12549019607843137, 0.2], [0.24705882352941178, 0.12156862745098039, 0.2235294117647059], [0.22745098039215686, 0.12549019607843137, 0.25098039215686274], [0.21176470588235294, 0.13725490196078433, 0.2823529411764706], [0.19607843137254902, 0.1450980392156863, 0.30980392156862746], [0.20392156862745098, 0.14901960784313725, 0.2980392156862745], [0.2, 0.1607843137254902, 0.2784313725490196], [0.19215686274509805, 0.1803921568627451, 0.2980392156862745], [0.19215686274509805, 0.19607843137254902, 0.3137254901960784], [0.21176470588235294, 0.19607843137254902, 0.3254901960784314], [0.22745098039215686, 0.2, 0.33725490196078434], [0.21568627450980393, 0.2, 0.34509803921568627], [0.19607843137254902, 0.2, 0.3607843137254902], [0.19215686274509805, 0.21568627450980393, 0.3843137254901961], [0.1803921568627451, 0.2235294117647059, 0.3686274509803922], [0.19215686274509805, 0.23921568627450981, 0.3607843137254902], [0.22745098039215686, 0.28627450980392155, 0.4196078431372549], [0.23921568627450981, 0.3058823529411765, 0.44313725490196076], [0.24705882352941178, 0.3137254901960784, 0.43529411764705883], [0.22745098039215686, 0.2901960784313726, 0.4235294117647059], [0.21568627450980393, 0.26666666666666666, 0.43529411764705883], [0.2, 0.25098039215686274, 0.4392156862745098]], [[0.16862745098039217, 0.1803921568627451, 0.3176470588235294], [0.1803921568627451, 0.17254901960784313, 0.3176470588235294], [0.16862745098039217, 0.15294117647058825, 0.2980392156862745], [0.14901960784313725, 0.11372549019607843, 0.2627450980392157], [0.1607843137254902, 0.10980392156862745, 0.23137254901960785], [0.17254901960784313, 0.11764705882352941, 0.2], [0.2, 0.13725490196078433, 0.20392156862745098], [0.2196078431372549, 0.14901960784313725, 0.19607843137254902], [0.22745098039215686, 0.1450980392156863, 0.1803921568627451], [0.2235294117647059, 0.1450980392156863, 0.1803921568627451], [0.20784313725490197, 0.13725490196078433, 0.22745098039215686], [0.2, 0.13725490196078433, 0.2549019607843137], [0.19215686274509805, 0.1411764705882353, 0.2784313725490196], [0.19215686274509805, 0.14901960784313725, 0.3058823529411765], [0.17647058823529413, 0.14901960784313725, 0.3176470588235294], [0.1803921568627451, 0.1568627450980392, 0.3058823529411765], [0.17647058823529413, 0.16470588235294117, 0.2901960784313726], [0.17254901960784313, 0.17254901960784313, 0.29411764705882354], [0.17254901960784313, 0.1843137254901961, 0.3058823529411765], [0.17254901960784313, 0.18823529411764706, 0.30980392156862746], [0.17254901960784313, 0.18823529411764706, 0.3176470588235294], [0.16470588235294117, 0.18823529411764706, 0.33725490196078434], [0.15294117647058825, 0.19215686274509805, 0.34509803921568627], [0.1607843137254902, 0.2, 0.3568627450980392], [0.1568627450980392, 0.20392156862745098, 0.35294117647058826], [0.17254901960784313, 0.2235294117647059, 0.36470588235294116], [0.20784313725490197, 0.26666666666666666, 0.40784313725490196], [0.22745098039215686, 0.28627450980392155, 0.43137254901960786], [0.2235294117647059, 0.2784313725490196, 0.4235294117647059], [0.21568627450980393, 0.26666666666666666, 0.41568627450980394], [0.2, 0.24705882352941178, 0.403921568627451], [0.17647058823529413, 0.2235294117647059, 0.38823529411764707]], [[0.14901960784313725, 0.16862745098039217, 0.3137254901960784], [0.1568627450980392, 0.16470588235294117, 0.30980392156862746], [0.15294117647058825, 0.14901960784313725, 0.2980392156862745], [0.1411764705882353, 0.12941176470588237, 0.2823529411764706], [0.14901960784313725, 0.12549019607843137, 0.25882352941176473], [0.16862745098039217, 0.13725490196078433, 0.24313725490196078], [0.1843137254901961, 0.14901960784313725, 0.24313725490196078], [0.19607843137254902, 0.14901960784313725, 0.22745098039215686], [0.20784313725490197, 0.15294117647058825, 0.21176470588235294], [0.20784313725490197, 0.15294117647058825, 0.20784313725490197], [0.1843137254901961, 0.1411764705882353, 0.23921568627450981], [0.17647058823529413, 0.1411764705882353, 0.25882352941176473], [0.17254901960784313, 0.1450980392156863, 0.2784313725490196], [0.17254901960784313, 0.14901960784313725, 0.3058823529411765], [0.1607843137254902, 0.1411764705882353, 0.3137254901960784], [0.1568627450980392, 0.14901960784313725, 0.3137254901960784], [0.14901960784313725, 0.15294117647058825, 0.30196078431372547], [0.15294117647058825, 0.1568627450980392, 0.29411764705882354], [0.15294117647058825, 0.1568627450980392, 0.28627450980392155], [0.1450980392156863, 0.15294117647058825, 0.27058823529411763], [0.15294117647058825, 0.16862745098039217, 0.28627450980392155], [0.1411764705882353, 0.1803921568627451, 0.3254901960784314], [0.13725490196078433, 0.1843137254901961, 0.3333333333333333], [0.1411764705882353, 0.18823529411764706, 0.33725490196078434], [0.13725490196078433, 0.1803921568627451, 0.32941176470588235], [0.1568627450980392, 0.2, 0.34901960784313724], [0.1843137254901961, 0.22745098039215686, 0.3764705882352941], [0.2, 0.24705882352941178, 0.396078431372549], [0.19607843137254902, 0.24313725490196078, 0.39215686274509803], [0.19215686274509805, 0.23921568627450981, 0.3843137254901961], [0.16862745098039217, 0.21568627450980393, 0.36470588235294116], [0.1568627450980392, 0.20784313725490197, 0.3568627450980392]], [[0.13333333333333333, 0.1568627450980392, 0.30196078431372547], [0.1411764705882353, 0.15294117647058825, 0.30196078431372547], [0.14901960784313725, 0.14901960784313725, 0.30196078431372547], [0.1450980392156863, 0.13725490196078433, 0.2901960784313726], [0.1411764705882353, 0.13333333333333333, 0.27450980392156865], [0.1411764705882353, 0.1411764705882353, 0.26666666666666666], [0.1568627450980392, 0.14901960784313725, 0.25882352941176473], [0.16862745098039217, 0.15294117647058825, 0.24313725490196078], [0.17647058823529413, 0.15294117647058825, 0.2235294117647059], [0.17647058823529413, 0.15294117647058825, 0.2235294117647059], [0.1607843137254902, 0.1450980392156863, 0.25882352941176473], [0.14901960784313725, 0.1411764705882353, 0.2784313725490196], [0.1411764705882353, 0.1411764705882353, 0.2980392156862745], [0.13333333333333333, 0.1411764705882353, 0.3137254901960784], [0.12156862745098039, 0.13333333333333333, 0.3215686274509804], [0.12156862745098039, 0.13333333333333333, 0.3176470588235294], [0.12156862745098039, 0.12941176470588237, 0.30196078431372547], [0.12156862745098039, 0.12941176470588237, 0.29411764705882354], [0.12156862745098039, 0.12941176470588237, 0.2823529411764706], [0.12549019607843137, 0.13725490196078433, 0.2784313725490196], [0.13333333333333333, 0.15294117647058825, 0.29411764705882354], [0.12941176470588237, 0.17254901960784313, 0.3176470588235294], [0.12941176470588237, 0.1803921568627451, 0.32941176470588235], [0.13333333333333333, 0.1803921568627451, 0.3333333333333333], [0.12941176470588237, 0.17647058823529413, 0.3254901960784314], [0.14901960784313725, 0.19607843137254902, 0.34509803921568627], [0.17254901960784313, 0.2196078431372549, 0.3686274509803922], [0.17254901960784313, 0.2196078431372549, 0.3686274509803922], [0.16470588235294117, 0.21176470588235294, 0.3607843137254902], [0.1607843137254902, 0.20784313725490197, 0.3568627450980392], [0.1450980392156863, 0.19215686274509805, 0.3411764705882353], [0.13333333333333333, 0.1843137254901961, 0.33725490196078434]], [[0.11372549019607843, 0.1450980392156863, 0.28627450980392155], [0.12549019607843137, 0.1450980392156863, 0.28627450980392155], [0.13333333333333333, 0.1411764705882353, 0.2901960784313726], [0.12941176470588237, 0.13333333333333333, 0.2823529411764706], [0.12156862745098039, 0.12941176470588237, 0.27450980392156865], [0.11764705882352941, 0.13725490196078433, 0.26666666666666666], [0.12941176470588237, 0.1411764705882353, 0.25882352941176473], [0.13725490196078433, 0.14901960784313725, 0.24313725490196078], [0.14901960784313725, 0.14901960784313725, 0.22745098039215686], [0.14901960784313725, 0.1450980392156863, 0.2235294117647059], [0.13725490196078433, 0.1450980392156863, 0.2627450980392157], [0.12549019607843137, 0.13725490196078433, 0.2823529411764706], [0.10980392156862745, 0.12941176470588237, 0.28627450980392155], [0.08627450980392157, 0.11372549019607843, 0.29411764705882354], [0.0784313725490196, 0.11372549019607843, 0.3058823529411765], [0.09411764705882353, 0.11764705882352941, 0.30980392156862746], [0.10588235294117647, 0.11764705882352941, 0.30196078431372547], [0.10196078431372549, 0.11372549019607843, 0.2901960784313726], [0.10588235294117647, 0.12156862745098039, 0.2823529411764706], [0.10588235294117647, 0.12156862745098039, 0.27450980392156865], [0.10196078431372549, 0.12549019607843137, 0.27058823529411763], [0.10588235294117647, 0.1450980392156863, 0.29411764705882354], [0.10588235294117647, 0.15294117647058825, 0.30196078431372547], [0.11372549019607843, 0.1607843137254902, 0.3058823529411765], [0.12156862745098039, 0.16862745098039217, 0.3176470588235294], [0.13333333333333333, 0.17647058823529413, 0.3254901960784314], [0.15294117647058825, 0.19607843137254902, 0.34509803921568627], [0.1568627450980392, 0.20392156862745098, 0.35294117647058826], [0.15294117647058825, 0.2, 0.34509803921568627], [0.12941176470588237, 0.17647058823529413, 0.3215686274509804], [0.12549019607843137, 0.17254901960784313, 0.3176470588235294], [0.11372549019607843, 0.1607843137254902, 0.3137254901960784]]]]}'"
            ]
          },
          "metadata": {
            "tags": []
          },
          "execution_count": 34
        }
      ]
    },
    {
      "cell_type": "code",
      "metadata": {
        "id": "UiwkUJYsrPd6",
        "colab_type": "code",
        "colab": {}
      },
      "source": [
        "# sending the first POST request to the model\n",
        "headers = {\"content-type\":\"application/json\"}"
      ],
      "execution_count": 0,
      "outputs": []
    },
    {
      "cell_type": "code",
      "metadata": {
        "id": "usXRl6sTr2_T",
        "colab_type": "code",
        "colab": {}
      },
      "source": [
        "json_response = requests.post(url=\"http://localhost:8501/v1/models/cifar10:predict\", data=data, headers=headers)"
      ],
      "execution_count": 0,
      "outputs": []
    },
    {
      "cell_type": "code",
      "metadata": {
        "id": "y-y8H7pQsZ7A",
        "colab_type": "code",
        "outputId": "b6e36271-d864-448d-b305-738e850f9142",
        "colab": {
          "base_uri": "https://localhost:8080/",
          "height": 34
        }
      },
      "source": [
        "json_response"
      ],
      "execution_count": 0,
      "outputs": [
        {
          "output_type": "execute_result",
          "data": {
            "text/plain": [
              "<Response [200]>"
            ]
          },
          "metadata": {
            "tags": []
          },
          "execution_count": 37
        }
      ]
    },
    {
      "cell_type": "code",
      "metadata": {
        "id": "ZISrEIEPsbiQ",
        "colab_type": "code",
        "colab": {}
      },
      "source": [
        "prediction = json.loads(json_response.text)['predictions']"
      ],
      "execution_count": 0,
      "outputs": []
    },
    {
      "cell_type": "code",
      "metadata": {
        "id": "083WqXNHsouK",
        "colab_type": "code",
        "outputId": "d5069aa2-ac41-4979-8944-d799cbe303b5",
        "colab": {
          "base_uri": "https://localhost:8080/",
          "height": 185
        }
      },
      "source": [
        "prediction"
      ],
      "execution_count": 0,
      "outputs": [
        {
          "output_type": "execute_result",
          "data": {
            "text/plain": [
              "[[1.63243429e-11,\n",
              "  4.45823767e-10,\n",
              "  2.09768281e-15,\n",
              "  8.49974799e-17,\n",
              "  5.07355879e-15,\n",
              "  6.44170335e-15,\n",
              "  2.98043755e-14,\n",
              "  6.40285926e-19,\n",
              "  1.0,\n",
              "  7.24279848e-14]]"
            ]
          },
          "metadata": {
            "tags": []
          },
          "execution_count": 39
        }
      ]
    },
    {
      "cell_type": "code",
      "metadata": {
        "id": "5FBWAxtEsuUd",
        "colab_type": "code",
        "outputId": "775c860d-8d75-4ab2-c645-8b1c21cf82e2",
        "colab": {
          "base_uri": "https://localhost:8080/",
          "height": 286
        }
      },
      "source": [
        "plt.imshow(X_test[random_image])"
      ],
      "execution_count": 0,
      "outputs": [
        {
          "output_type": "execute_result",
          "data": {
            "text/plain": [
              "<matplotlib.image.AxesImage at 0x7fd2706121d0>"
            ]
          },
          "metadata": {
            "tags": []
          },
          "execution_count": 40
        },
        {
          "output_type": "display_data",
          "data": {
            "image/png": "[encoded data removed]",
            "text/plain": [
              "<Figure size 432x288 with 1 Axes>"
            ]
          },
          "metadata": {
            "tags": []
          }
        }
      ]
    },
    {
      "cell_type": "code",
      "metadata": {
        "id": "Iqsd5M1os5wh",
        "colab_type": "code",
        "outputId": "5fc9d013-0016-4c4b-c96d-a7cc9efc9063",
        "colab": {
          "base_uri": "https://localhost:8080/",
          "height": 34
        }
      },
      "source": [
        "class_name[np.argmax(prediction[0])]"
      ],
      "execution_count": 0,
      "outputs": [
        {
          "output_type": "execute_result",
          "data": {
            "text/plain": [
              "'ship'"
            ]
          },
          "metadata": {
            "tags": []
          },
          "execution_count": 41
        }
      ]
    },
    {
      "cell_type": "code",
      "metadata": {
        "id": "UwYFvcQVKQcX",
        "colab_type": "code",
        "outputId": "0a084bcc-2871-450b-f856-791c1c9a222a",
        "colab": {
          "base_uri": "https://localhost:8080/",
          "height": 50
        }
      },
      "source": [
        "!pip install pillow"
      ],
      "execution_count": 0,
      "outputs": [
        {
          "output_type": "stream",
          "text": [
            "Requirement already satisfied: pillow in /usr/local/lib/python3.6/dist-packages (4.3.0)\n",
            "Requirement already satisfied: olefile in /usr/local/lib/python3.6/dist-packages (from pillow) (0.46)\n"
          ],
          "name": "stdout"
        }
      ]
    },
    {
      "cell_type": "code",
      "metadata": {
        "id": "7nX-MZmlIVNr",
        "colab_type": "code",
        "outputId": "9baf8ff6-4d15-4ebd-9b5d-c198cd7171eb",
        "colab": {
          "base_uri": "https://localhost:8080/",
          "height": 34
        }
      },
      "source": [
        "from PIL import Image\n",
        "im = Image.open('cattest.jpg')\n",
        "im = im.resize((32,32))\n",
        "im2arr = np.array(im).reshape(32,32,3)\n",
        "\n",
        "data = json.dumps({\"signature_name\":\"serving_default\",\"instances\":[im2arr.tolist()]})\n",
        "headers = {\"content-type\":\"application/json\"}\n",
        "json_response = requests.post(url=\"http://localhost:8501/v1/models/cifar10:predict\", data=data, headers=headers)\n",
        "json_response"
      ],
      "execution_count": 0,
      "outputs": [
        {
          "output_type": "execute_result",
          "data": {
            "text/plain": [
              "<Response [200]>"
            ]
          },
          "metadata": {
            "tags": []
          },
          "execution_count": 49
        }
      ]
    },
    {
      "cell_type": "code",
      "metadata": {
        "id": "RYpBichIIzxT",
        "colab_type": "code",
        "outputId": "ee1659f0-9d5d-4d95-b05c-bc64a4cd8ebc",
        "colab": {
          "base_uri": "https://localhost:8080/",
          "height": 34
        }
      },
      "source": [
        "prediction = json.loads(json_response.text)['predictions']\n",
        "prediction"
      ],
      "execution_count": 0,
      "outputs": [
        {
          "output_type": "execute_result",
          "data": {
            "text/plain": [
              "[[0.0, 0.0, 0.0, 1.0, 0.0, 0.0, 0.0, 0.0, 0.0, 0.0]]"
            ]
          },
          "metadata": {
            "tags": []
          },
          "execution_count": 50
        }
      ]
    },
    {
      "cell_type": "code",
      "metadata": {
        "id": "nnoHZQ-Aa7ti",
        "colab_type": "code",
        "outputId": "b9c487f9-393e-498b-940a-78fb0a6c958e",
        "colab": {
          "base_uri": "https://localhost:8080/",
          "height": 34
        }
      },
      "source": [
        "class_name[np.argmax(prediction[0])]"
      ],
      "execution_count": 0,
      "outputs": [
        {
          "output_type": "execute_result",
          "data": {
            "text/plain": [
              "'cat'"
            ]
          },
          "metadata": {
            "tags": []
          },
          "execution_count": 51
        }
      ]
    },
    {
      "cell_type": "markdown",
      "metadata": {
        "id": "wd8axYKNtiVm",
        "colab_type": "text"
      },
      "source": [
        "# Sending the POST request to a specific model"
      ]
    },
    {
      "cell_type": "code",
      "metadata": {
        "id": "RCNxH5uKtSSG",
        "colab_type": "code",
        "colab": {}
      },
      "source": [
        "specific_json_response = requests.post(url=\"http://localhost:8501/v1/models/cifar10/versions/1:predict\", data=data, headers=headers)"
      ],
      "execution_count": 0,
      "outputs": []
    },
    {
      "cell_type": "code",
      "metadata": {
        "id": "O6N8O_IvuPxm",
        "colab_type": "code",
        "outputId": "1d30e7f0-b808-4393-b68d-a4ba861518c1",
        "colab": {
          "base_uri": "https://localhost:8080/",
          "height": 34
        }
      },
      "source": [
        "specific_json_response"
      ],
      "execution_count": 0,
      "outputs": [
        {
          "output_type": "execute_result",
          "data": {
            "text/plain": [
              "<Response [200]>"
            ]
          },
          "metadata": {
            "tags": []
          },
          "execution_count": 32
        }
      ]
    },
    {
      "cell_type": "markdown",
      "metadata": {
        "id": "mi0Xaji9vNqs",
        "colab_type": "text"
      },
      "source": [
        "## make new model"
      ]
    },
    {
      "cell_type": "code",
      "metadata": {
        "id": "V-vwWlM4uRoj",
        "colab_type": "code",
        "outputId": "416dc6ae-f14d-4d26-ee8e-fbc558fd4ebb",
        "colab": {
          "base_uri": "https://localhost:8080/",
          "height": 440
        }
      },
      "source": [
        "model2 = tf.keras.models.Sequential()\n",
        "model2.add(tf.keras.layers.Conv2D(filters=32, kernel_size=3, padding='same', activation='relu', input_shape=(32,32,3)))\n",
        "model2.add(tf.keras.layers.Conv2D(filters=32, kernel_size=3, padding='same', activation='relu'))\n",
        "model2.add(tf.keras.layers.MaxPool2D(pool_size=2, strides=2, padding='valid'))\n",
        "model2.add(tf.keras.layers.Conv2D(filters=64, kernel_size=3, padding='same', activation='relu'))\n",
        "model2.add(tf.keras.layers.Conv2D(filters=64, kernel_size=3, padding='same', activation='relu'))\n",
        "model2.add(tf.keras.layers.MaxPool2D(pool_size=2, strides=2, padding='valid'))\n",
        "model2.add(tf.keras.layers.Conv2D(filters=128, kernel_size=3, padding='same', activation='relu'))\n",
        "model2.add(tf.keras.layers.Conv2D(filters=128, kernel_size=3, padding='same', activation='relu'))\n",
        "model2.add(tf.keras.layers.MaxPool2D(pool_size=2, strides=2, padding='valid'))\n",
        "model2.add(tf.keras.layers.Flatten())\n",
        "model2.add(tf.keras.layers.Dropout(0.2))\n",
        "model2.add(tf.keras.layers.Dense(units=128, activation='relu'))\n",
        "model2.add(tf.keras.layers.Dense(units=10, activation='softmax'))\n",
        "\n",
        "model2.compile(optimizer='adam', loss='sparse_categorical_crossentropy', metrics=['sparse_categorical_accuracy'])\n",
        "model2.fit(X_train, y_train, batch_size=128, epochs=10)"
      ],
      "execution_count": 0,
      "outputs": [
        {
          "output_type": "stream",
          "text": [
            "WARNING:tensorflow:From /usr/local/lib/python3.6/dist-packages/tensorflow/python/keras/layers/core.py:143: calling dropout (from tensorflow.python.ops.nn_ops) with keep_prob is deprecated and will be removed in a future version.\n",
            "Instructions for updating:\n",
            "Please use `rate` instead of `keep_prob`. Rate should be set to `rate = 1 - keep_prob`.\n",
            "Epoch 1/10\n",
            "50000/50000 [==============================] - 15s 299us/sample - loss: 1.5965 - sparse_categorical_accuracy: 0.4123\n",
            "Epoch 2/10\n",
            "50000/50000 [==============================] - 14s 284us/sample - loss: 1.1015 - sparse_categorical_accuracy: 0.6078\n",
            "Epoch 3/10\n",
            "50000/50000 [==============================] - 14s 284us/sample - loss: 0.8762 - sparse_categorical_accuracy: 0.6913\n",
            "Epoch 4/10\n",
            "50000/50000 [==============================] - 15s 294us/sample - loss: 0.7387 - sparse_categorical_accuracy: 0.7426\n",
            "Epoch 5/10\n",
            "50000/50000 [==============================] - 15s 297us/sample - loss: 0.6439 - sparse_categorical_accuracy: 0.7747\n",
            "Epoch 6/10\n",
            "50000/50000 [==============================] - 15s 296us/sample - loss: 0.5692 - sparse_categorical_accuracy: 0.8018\n",
            "Epoch 7/10\n",
            "50000/50000 [==============================] - 14s 285us/sample - loss: 0.5048 - sparse_categorical_accuracy: 0.8225\n",
            "Epoch 8/10\n",
            "50000/50000 [==============================] - 14s 290us/sample - loss: 0.4456 - sparse_categorical_accuracy: 0.8444\n",
            "Epoch 9/10\n",
            "50000/50000 [==============================] - 15s 297us/sample - loss: 0.3993 - sparse_categorical_accuracy: 0.8588\n",
            "Epoch 10/10\n",
            "50000/50000 [==============================] - 15s 297us/sample - loss: 0.3539 - sparse_categorical_accuracy: 0.8741\n"
          ],
          "name": "stdout"
        },
        {
          "output_type": "execute_result",
          "data": {
            "text/plain": [
              "<tensorflow.python.keras.callbacks.History at 0x7f45e6696fd0>"
            ]
          },
          "metadata": {
            "tags": []
          },
          "execution_count": 33
        }
      ]
    },
    {
      "cell_type": "code",
      "metadata": {
        "id": "7f1-CGxGvvao",
        "colab_type": "code",
        "outputId": "990aa7a9-b146-4f36-d99e-cc7e8b997558",
        "colab": {
          "base_uri": "https://localhost:8080/",
          "height": 34
        }
      },
      "source": [
        "test_loss, test_accuracy = model2.evaluate(X_test, y_test)"
      ],
      "execution_count": 0,
      "outputs": [
        {
          "output_type": "stream",
          "text": [
            "10000/10000 [==============================] - 2s 210us/sample - loss: 0.6464 - sparse_categorical_accuracy: 0.7911\n"
          ],
          "name": "stdout"
        }
      ]
    },
    {
      "cell_type": "code",
      "metadata": {
        "id": "pXon2V_Bv-45",
        "colab_type": "code",
        "outputId": "9ae17c2e-96ee-461d-8f15-1792dc6a4875",
        "colab": {
          "base_uri": "https://localhost:8080/",
          "height": 34
        }
      },
      "source": [
        "print(\"Test accuracy : {}\".format(test_accuracy))"
      ],
      "execution_count": 0,
      "outputs": [
        {
          "output_type": "stream",
          "text": [
            "Test accuracy : 0.791100025177002\n"
          ],
          "name": "stdout"
        }
      ]
    },
    {
      "cell_type": "code",
      "metadata": {
        "id": "zCmrWbLqwA6i",
        "colab_type": "code",
        "outputId": "d0dad021-b491-4ec2-d24a-c40d49748dc2",
        "colab": {
          "base_uri": "https://localhost:8080/",
          "height": 34
        }
      },
      "source": [
        "export_path2 = os.path.join(MODEL_DIR, str(2))\n",
        "export_path2"
      ],
      "execution_count": 0,
      "outputs": [
        {
          "output_type": "execute_result",
          "data": {
            "text/plain": [
              "'model/2'"
            ]
          },
          "metadata": {
            "tags": []
          },
          "execution_count": 36
        }
      ]
    },
    {
      "cell_type": "code",
      "metadata": {
        "id": "4zn1b-d3wVCW",
        "colab_type": "code",
        "colab": {}
      },
      "source": [
        "if os.path.isdir(export_path2):\n",
        "  !rm -r {export_path2}"
      ],
      "execution_count": 0,
      "outputs": []
    },
    {
      "cell_type": "code",
      "metadata": {
        "id": "SqYbe2N4wc_2",
        "colab_type": "code",
        "outputId": "6df4d9d1-e6bc-4eae-a41d-eaaf02fcba4b",
        "colab": {
          "base_uri": "https://localhost:8080/",
          "height": 67
        }
      },
      "source": [
        "# Saving the model for tenserflow serving\n",
        "tf.saved_model.simple_save(tf.keras.backend.get_session(), export_dir=export_path2, inputs={\"input_image\":model2.input}, outputs={t.name:t for t in model2.outputs})"
      ],
      "execution_count": 0,
      "outputs": [
        {
          "output_type": "stream",
          "text": [
            "INFO:tensorflow:Assets added to graph.\n",
            "INFO:tensorflow:No assets to write.\n",
            "INFO:tensorflow:SavedModel written to: model/2/saved_model.pb\n"
          ],
          "name": "stdout"
        }
      ]
    },
    {
      "cell_type": "code",
      "metadata": {
        "id": "_3P73FBhxIAe",
        "colab_type": "code",
        "outputId": "6e6e2e70-6eb9-426b-94b3-db6bff5711de",
        "colab": {
          "base_uri": "https://localhost:8080/",
          "height": 34
        }
      },
      "source": [
        "%%bash --bg\n",
        "nohup tensorflow_model_server --rest_api_port=8501 --model_name=cifar10 --model_base_path=\"${MODEL_DIR}\" >server.log 2>&1"
      ],
      "execution_count": 0,
      "outputs": [
        {
          "output_type": "stream",
          "text": [
            "Starting job # 2 in a separate thread.\n"
          ],
          "name": "stdout"
        }
      ]
    },
    {
      "cell_type": "code",
      "metadata": {
        "id": "1LYW8CNpxOn2",
        "colab_type": "code",
        "outputId": "c0e2b733-3fae-4a16-ab74-651430aac466",
        "colab": {
          "base_uri": "https://localhost:8080/",
          "height": 205
        }
      },
      "source": [
        "!tail server.log"
      ],
      "execution_count": 0,
      "outputs": [
        {
          "output_type": "stream",
          "text": [
            "2019-10-06 07:37:32.433795: I external/org_tensorflow/tensorflow/cc/saved_model/reader.cc:31] Reading SavedModel from: /content/model/2\n",
            "2019-10-06 07:37:32.440816: I external/org_tensorflow/tensorflow/cc/saved_model/reader.cc:54] Reading meta graph with tags { serve }\n",
            "2019-10-06 07:37:32.448003: I external/org_tensorflow/tensorflow/core/platform/cpu_feature_guard.cc:142] Your CPU supports instructions that this TensorFlow binary was not compiled to use: AVX2 FMA\n",
            "2019-10-06 07:37:32.484147: I external/org_tensorflow/tensorflow/cc/saved_model/loader.cc:202] Restoring SavedModel bundle.\n",
            "2019-10-06 07:37:32.569857: I external/org_tensorflow/tensorflow/cc/saved_model/loader.cc:311] SavedModel load for tags { serve }; Status: success. Took 136042 microseconds.\n",
            "2019-10-06 07:37:32.569976: I tensorflow_serving/servables/tensorflow/saved_model_warmup.cc:103] No warmup data file found at /content/model/2/assets.extra/tf_serving_warmup_requests\n",
            "2019-10-06 07:37:32.570072: I tensorflow_serving/core/loader_harness.cc:86] Successfully loaded servable version {name: cifar10 version: 2}\n",
            "2019-10-06 07:37:32.571868: I tensorflow_serving/model_servers/server.cc:324] Running gRPC ModelServer at 0.0.0.0:8500 ...\n",
            "[warn] getaddrinfo: address family for nodename not supported\n",
            "[evhttp_server.cc : 224] RAW: Couldn't bind to port 8501\n"
          ],
          "name": "stdout"
        }
      ]
    },
    {
      "cell_type": "code",
      "metadata": {
        "id": "OH2T0tSVwjQD",
        "colab_type": "code",
        "colab": {}
      },
      "source": [
        "v2_json_response = requests.post(url=\"http://localhost:8501/v1/models/cifar10/versions/2:predict\", data=data, headers=headers)"
      ],
      "execution_count": 0,
      "outputs": []
    },
    {
      "cell_type": "code",
      "metadata": {
        "id": "PKCL3UsAwzHK",
        "colab_type": "code",
        "outputId": "907caa36-e324-4ac9-9f4a-d78c68fb11c7",
        "colab": {
          "base_uri": "https://localhost:8080/",
          "height": 34
        }
      },
      "source": [
        "v2_json_response"
      ],
      "execution_count": 0,
      "outputs": [
        {
          "output_type": "execute_result",
          "data": {
            "text/plain": [
              "<Response [200]>"
            ]
          },
          "metadata": {
            "tags": []
          },
          "execution_count": 50
        }
      ]
    },
    {
      "cell_type": "code",
      "metadata": {
        "id": "Lnbeerz6xVtw",
        "colab_type": "code",
        "outputId": "827fc305-5d06-4247-c226-27634fa55358",
        "colab": {
          "base_uri": "https://localhost:8080/",
          "height": 34
        }
      },
      "source": [
        "v1_json_response = requests.post(url=\"http://localhost:8501/v1/models/cifar10/versions/1:predict\", data=data, headers=headers)\n",
        "v1_json_response"
      ],
      "execution_count": 0,
      "outputs": [
        {
          "output_type": "execute_result",
          "data": {
            "text/plain": [
              "<Response [404]>"
            ]
          },
          "metadata": {
            "tags": []
          },
          "execution_count": 51
        }
      ]
    },
    {
      "cell_type": "code",
      "metadata": {
        "id": "ni9fT7EXyaPr",
        "colab_type": "code",
        "colab": {}
      },
      "source": [
        ""
      ],
      "execution_count": 0,
      "outputs": []
    }
  ]
}